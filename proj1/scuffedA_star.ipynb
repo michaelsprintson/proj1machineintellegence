{
 "cells": [
  {
   "cell_type": "code",
   "execution_count": 1,
   "metadata": {},
   "outputs": [],
   "source": [
    "%load_ext autoreload\n",
    "%autoreload 2"
   ]
  },
  {
   "cell_type": "code",
   "execution_count": 22,
   "metadata": {},
   "outputs": [],
   "source": [
    "import numpy as np\n",
    "from func import link_maker\n",
    "from alg import astar,min_conflict,bfs,bt_dfs\n",
    "import matplotlib.pyplot as plt"
   ]
  },
  {
   "cell_type": "code",
   "execution_count": 4,
   "metadata": {},
   "outputs": [],
   "source": [
    "size = 8\n",
    "\n",
    "# init_playfield = [-1, 1, -1, -1] \n",
    "# init_playfield = [1, -1, 2, 0] \n",
    "init_playfield = [-1, 0, -1, -1, -1, -1, -1, -1] \n",
    "# init_playfield = [1, 5, 3, 4, 6, 2, 7, 0]"
   ]
  },
  {
   "cell_type": "code",
   "execution_count": 5,
   "metadata": {},
   "outputs": [
    {
     "name": "stdout",
     "output_type": "stream",
     "text": [
      "[5, 3, 0, 4, 7, 1, 6, 2] 93\n"
     ]
    },
    {
     "data": {
      "text/plain": [
       "'https://lichess.org/editor/2Q5/5Q2/7Q/1Q6/3Q4/Q7/6Q1/4Q3_w_-_-_0_1?color=white'"
      ]
     },
     "execution_count": 5,
     "metadata": {},
     "output_type": "execute_result"
    }
   ],
   "source": [
    "ap, b = astar(size, init_playfield, 100)\n",
    "print(ap, b)\n",
    "link_maker(ap)"
   ]
  },
  {
   "cell_type": "code",
   "execution_count": null,
   "metadata": {},
   "outputs": [],
   "source": []
  },
  {
   "cell_type": "code",
   "execution_count": 40,
   "metadata": {},
   "outputs": [
    {
     "name": "stderr",
     "output_type": "stream",
     "text": [
      "100%|██████████| 1000/1000 [06:22<00:00,  2.61it/s]\n"
     ]
    }
   ],
   "source": [
    "from tqdm import tqdm\n",
    "a_s = []\n",
    "a2_s = []\n",
    "mc_s = []\n",
    "N = 1000\n",
    "for _ in tqdm(range(N)):\n",
    "    init_playfield = list(np.random.randint(0, size, size))\n",
    "    a_playfield, a_breaker = astar(size, init_playfield, 100)\n",
    "    # a2_playfield, a2_breaker = astar(size, init_playfield, 100, kflag = True)\n",
    "    mc_playfield, mc_breaker = min_conflict(init_playfield, size, 100)\n",
    "    a_s.append(a_breaker)\n",
    "    # a2_s.append(a2_breaker)\n",
    "    mc_s.append(mc_breaker)\n",
    "# print(link_maker(a_playfield) if a_breaker <= 100 else \"\\n\")\n",
    "# print(link_maker(mc_playfield) if mc_breaker <= 100 else \"\\n\")"
   ]
  },
  {
   "cell_type": "code",
   "execution_count": 46,
   "metadata": {},
   "outputs": [
    {
     "data": {
      "image/png": "[encoded data removed]",
      "text/plain": [
       "<Figure size 640x480 with 1 Axes>"
      ]
     },
     "metadata": {},
     "output_type": "display_data"
    },
    {
     "name": "stdout",
     "output_type": "stream",
     "text": [
      "Average Number of Iterations (A*): 24.424\n",
      "Average Number of Iterations (Min-Conflict): 42.444\n",
      "Convergence rate of Min-Conflict: 87.4%\n"
     ]
    }
   ],
   "source": [
    "plt.hist(a_s, alpha = 0.4, label = \"astar\")\n",
    "plt.hist(mc_s, alpha = 0.4, label = \"min conflict\")\n",
    "plt.legend()\n",
    "plt.xlabel('Number of Iterations')\n",
    "plt.ylabel('Count')\n",
    "plt.show()\n",
    "\n",
    "a_average = sum(a_s) / N\n",
    "mc_average = sum(mc_s) / N\n",
    "print('Average Number of Iterations (A*): ' + str(a_average))\n",
    "print('Average Number of Iterations (Min-Conflict): ' + str(mc_average))\n",
    "\n",
    "num_conv_mc = N - mc_s.count(101)\n",
    "print('Convergence rate of Min-Conflict: ' + str(num_conv_mc / N * 100) + '%')"
   ]
  },
  {
   "cell_type": "code",
   "execution_count": 38,
   "metadata": {},
   "outputs": [
    {
     "name": "stdout",
     "output_type": "stream",
     "text": [
      "found [0, 4, 7, 5, 2, 6, 1, 3]\n",
      "Average number of iterations: 876\n"
     ]
    },
    {
     "data": {
      "text/plain": [
       "'https://lichess.org/editor/Q7/6Q1/4Q3/7Q/1Q6/3Q4/5Q2/2Q5_w_-_-_0_1?color=white'"
      ]
     },
     "execution_count": 38,
     "metadata": {},
     "output_type": "execute_result"
    }
   ],
   "source": [
    "pf, bt_breaker = bt_dfs(8, True)\n",
    "print('Average number of iterations: ' + str(bt_breaker)) #No need for averaging; same solution every time\n",
    "link_maker(pf)\n"
   ]
  },
  {
   "cell_type": "code",
   "execution_count": 39,
   "metadata": {},
   "outputs": [
    {
     "name": "stdout",
     "output_type": "stream",
     "text": [
      "found [0, 6, 3, 5, 7, 1, 4, 2]\n",
      "found [6, 0, 2, 7, 5, 3, 1, 4]\n",
      "found [2, 7, 3, 6, 0, 5, 1, 4]\n",
      "found [1, 7, 5, 0, 2, 4, 6, 3]\n",
      "found [2, 7, 3, 6, 0, 5, 1, 4]\n",
      "found [3, 5, 0, 4, 1, 7, 2, 6]\n",
      "found [7, 1, 3, 0, 6, 4, 2, 5]\n",
      "found [0, 6, 4, 7, 1, 3, 5, 2]\n",
      "found [0, 4, 7, 5, 2, 6, 1, 3]\n",
      "found [2, 0, 6, 4, 7, 1, 3, 5]\n",
      "Average number of iterations: 13248.1\n"
     ]
    },
    {
     "data": {
      "text/plain": [
       "'https://lichess.org/editor/1Q6/5Q2/Q7/6Q1/3Q4/7Q/2Q5/4Q3_w_-_-_0_1?color=white'"
      ]
     },
     "execution_count": 39,
     "metadata": {},
     "output_type": "execute_result"
    }
   ],
   "source": [
    "bfs_iterations = []\n",
    "N = 10 #takes so long that we need less iterations\n",
    "for i in range(N):\n",
    "    pf, bfs_breaker = bfs(8, True)\n",
    "    bfs_iterations.append(bfs_breaker)\n",
    "\n",
    "bfs_average = sum(bfs_iterations) / N\n",
    "print('Average number of iterations: ' + str(bfs_average))\n",
    "link_maker(pf)\n"
   ]
  }
 ],
 "metadata": {
  "kernelspec": {
   "display_name": "Python 3",
   "language": "python",
   "name": "python3"
  },
  "language_info": {
   "codemirror_mode": {
    "name": "ipython",
    "version": 3
   },
   "file_extension": ".py",
   "mimetype": "text/x-python",
   "name": "python",
   "nbconvert_exporter": "python",
   "pygments_lexer": "ipython3",
   "version": "3.11.2"
  },
  "orig_nbformat": 4,
  "vscode": {
   "interpreter": {
    "hash": "aee8b7b246df8f9039afb4144a1f6fd8d2ca17a180786b69acc140d282b71a49"
   }
  }
 },
 "nbformat": 4,
 "nbformat_minor": 2
}
