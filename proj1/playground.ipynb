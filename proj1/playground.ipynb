{
 "cells": [
  {
   "cell_type": "code",
   "execution_count": 3,
   "metadata": {},
   "outputs": [],
   "source": [
    "import numpy as np\n",
    "import copy"
   ]
  },
  {
   "cell_type": "code",
   "execution_count": 200,
   "metadata": {},
   "outputs": [],
   "source": [
    "filt = lambda x: (y:=np.unique(np.where([0<=i<size for i in x], x, -1)))[y>=0]\n",
    "r_h = lambda x: [set(filt(i)) for i in x]\n",
    "r_calc = lambda r,c,s : r_h(np.array([[r-(i:= np.abs(c-x)), r+i]for x in range(s)]))\n",
    "def test(size):\n",
    "    full_set = {i for i in range(size)}\n",
    "    playfield = np.random.randint(0, size, size)\n",
    "    # playfield = [3, 3, 0, 3]\n",
    "    b_dict = {}\n",
    "    b_dict[size-1] = r_calc(playfield[size-1],size-1,size)\n",
    "    b_r = {playfield[size-1]}\n",
    "    for i in range(size-2, -1, -1):\n",
    "        reject_set = copy.copy(b_r)\n",
    "        admis_flag = True\n",
    "        for j in range(size-1, i, -1):\n",
    "            reject_set = reject_set.union(b_dict[j][i])\n",
    "            admis_flag = admis_flag and not (playfield[i] in reject_set)\n",
    "            # print(i,j, playfield[i], b_dict[j][i], b_r)\n",
    "        if not admis_flag:\n",
    "            good_vals = full_set.difference(reject_set)\n",
    "            if len(good_vals) > 0:\n",
    "                new_val = good_vals.pop()\n",
    "            else:\n",
    "                # print(\"no possible sol\")\n",
    "                return None\n",
    "            playfield[i] = new_val\n",
    "        # print(\"accepted\", i, playfield[i])\n",
    "        b_dict[i] = r_calc(playfield[i], i, size)\n",
    "        b_r.add(playfield[i])\n",
    "    return playfield"
   ]
  },
  {
   "cell_type": "code",
   "execution_count": 225,
   "metadata": {},
   "outputs": [
    {
     "data": {
      "text/plain": [
       "('https://lichess.org/editor/3Q4/6Q1/4Q3/2Q5/Q7/5Q2/7Q/1Q6_w_-_-_0_1?color=white',\n",
       " array([4, 7, 3, 0, 2, 5, 1, 6]),\n",
       " 13)"
      ]
     },
     "execution_count": 225,
     "metadata": {},
     "output_type": "execute_result"
    }
   ],
   "source": [
    "size = 8\n",
    "counter = 0\n",
    "while True:\n",
    "    x = test(size)\n",
    "    counter += 1\n",
    "    if not x is None:\n",
    "        break\n",
    "pr = lambda x: x if x > 0 else \"\"\n",
    "lx = list(x)\n",
    "liformula = np.zeros(8, dtype=\"object\")\n",
    "for i in range(0,8):\n",
    "    idx = lx.index(i)\n",
    "    liformula[i] = f\"{pr(idx)}Q{pr(7-idx)}\"\n",
    "\"https://lichess.org/editor/\" + \"/\".join(list(liformula)) + \"_w_-_-_0_1?color=white\", x, counter\n"
   ]
  },
  {
   "cell_type": "code",
   "execution_count": null,
   "metadata": {},
   "outputs": [],
   "source": []
  }
 ],
 "metadata": {
  "kernelspec": {
   "display_name": "mlenv",
   "language": "python",
   "name": "python3"
  },
  "language_info": {
   "codemirror_mode": {
    "name": "ipython",
    "version": 3
   },
   "file_extension": ".py",
   "mimetype": "text/x-python",
   "name": "python",
   "nbconvert_exporter": "python",
   "pygments_lexer": "ipython3",
   "version": "3.8.3"
  },
  "orig_nbformat": 4,
  "vscode": {
   "interpreter": {
    "hash": "61c55726856b8b1d3e81af8202333dd6f8bccdf3e0fb4dd88737923f55e83254"
   }
  }
 },
 "nbformat": 4,
 "nbformat_minor": 2
}
