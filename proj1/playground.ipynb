{
 "cells": [
  {
   "cell_type": "code",
   "execution_count": 1,
   "metadata": {},
   "outputs": [],
   "source": [
    "import numpy as np\n",
    "import copy\n",
    "from func import conflictcalculator, link_maker"
   ]
  },
  {
   "cell_type": "code",
   "execution_count": 2,
   "metadata": {},
   "outputs": [],
   "source": [
    "cc = conflictcalculator(8)\n",
    "def test(size):\n",
    "    full_set = {i for i in range(size)}\n",
    "    playfield = np.random.randint(0, size, size)\n",
    "    # playfield = [3, 3, 0, 3]\n",
    "    b_dict = {}\n",
    "    b_dict[size-1] = cc.r_calc(playfield[size-1],size-1,size)\n",
    "    b_r = {playfield[size-1]}\n",
    "    for i in range(size-2, -1, -1):\n",
    "        reject_set = copy.copy(b_r)\n",
    "        admis_flag = True\n",
    "        for j in range(size-1, i, -1):\n",
    "            reject_set = reject_set.union(b_dict[j][i])\n",
    "            admis_flag = admis_flag and not (playfield[i] in reject_set)\n",
    "            # print(i,j, playfield[i], b_dict[j][i], b_r)\n",
    "        if not admis_flag:\n",
    "            good_vals = full_set.difference(reject_set)\n",
    "            if len(good_vals) > 0:\n",
    "                new_val = good_vals.pop()\n",
    "            else:\n",
    "                # print(\"no possible sol\")\n",
    "                return None\n",
    "            playfield[i] = new_val\n",
    "        # print(\"accepted\", i, playfield[i])\n",
    "        b_dict[i] = cc.r_calc(playfield[i], i, size)\n",
    "        b_r.add(playfield[i])\n",
    "    return playfield"
   ]
  },
  {
   "cell_type": "code",
   "execution_count": 3,
   "metadata": {},
   "outputs": [
    {
     "data": {
      "text/plain": [
       "'https://lichess.org/editor/5Q2/2Q5/4Q3/6Q1/Q7/3Q4/1Q6/7Q_w_-_-_0_1?color=white'"
      ]
     },
     "execution_count": 3,
     "metadata": {},
     "output_type": "execute_result"
    }
   ],
   "source": [
    "size = 8\n",
    "counter = 0\n",
    "while True:\n",
    "    x = test(size)\n",
    "    counter += 1\n",
    "    if not x is None:\n",
    "        break\n",
    "link_maker(x)\n"
   ]
  },
  {
   "cell_type": "code",
   "execution_count": null,
   "metadata": {},
   "outputs": [],
   "source": []
  },
  {
   "cell_type": "code",
   "execution_count": null,
   "metadata": {},
   "outputs": [],
   "source": []
  },
  {
   "cell_type": "code",
   "execution_count": null,
   "metadata": {},
   "outputs": [],
   "source": []
  },
  {
   "cell_type": "code",
   "execution_count": null,
   "metadata": {},
   "outputs": [],
   "source": []
  }
 ],
 "metadata": {
  "kernelspec": {
   "display_name": "Python 3",
   "language": "python",
   "name": "python3"
  },
  "language_info": {
   "codemirror_mode": {
    "name": "ipython",
    "version": 3
   },
   "file_extension": ".py",
   "mimetype": "text/x-python",
   "name": "python",
   "nbconvert_exporter": "python",
   "pygments_lexer": "ipython3",
   "version": "3.11.2"
  },
  "orig_nbformat": 4,
  "vscode": {
   "interpreter": {
    "hash": "949777d72b0d2535278d3dc13498b2535136f6dfe0678499012e853ee9abcab1"
   }
  }
 },
 "nbformat": 4,
 "nbformat_minor": 2
}
