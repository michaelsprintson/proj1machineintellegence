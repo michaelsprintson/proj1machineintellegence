{
 "cells": [
  {
   "cell_type": "code",
   "execution_count": 164,
   "metadata": {},
   "outputs": [],
   "source": [
    "import numpy as np\n",
    "import copy\n",
    "from func import conflictcalculator, link_maker\n",
    "from itertools import product, combinations"
   ]
  },
  {
   "cell_type": "code",
   "execution_count": 222,
   "metadata": {},
   "outputs": [],
   "source": [
    "class game_node():\n",
    "    def __init__(self, playfield, g = 0, f = 0, h = 0, rc = False ) -> None:\n",
    "        l = locals()\n",
    "        [self.__setattr__(name, l[name]) for name in self.__init__.__code__.co_varnames if name != \"self\"]\n",
    "    \n",
    "    def calc_score(self):\n",
    "        return self.g+self.f-self.h\n",
    "\n",
    "    def __eq__(self, other):\n",
    "        o1, o2 = self.calc_score(), other.calc_score()\n",
    "        if (o1 == o2) and (self.rc == other.rc):\n",
    "            return True\n",
    "        return False\n",
    "\n",
    "    def __lt__(self, other): #is self less than other\n",
    "        o1, o2 = self.calc_score(), other.calc_score()\n",
    "        if o1 == o2:\n",
    "            if self.g == other.g:\n",
    "                if self.f == other.f:\n",
    "                    if self.h == other.h:\n",
    "                        if self.rc == other.rc:\n",
    "                            return False # objects are equal\n",
    "                        else:\n",
    "                            return self.rc\n",
    "                    else:\n",
    "                        return self.h > other.h\n",
    "                else:\n",
    "                    return self.f < other.f\n",
    "            else:\n",
    "                return self.g < other.g\n",
    "        else:\n",
    "            return o1 < o2\n",
    "\n",
    "    def __repr__(self):\n",
    "        return str(self.playfield) + f\" g = {self.g}, f = {self.f}, h = {self.h}, rc = {self.rc}\""
   ]
  },
  {
   "cell_type": "code",
   "execution_count": 223,
   "metadata": {},
   "outputs": [],
   "source": [
    "def list_replace_copy(list, idx, val):\n",
    "    nl = copy.copy(list)\n",
    "    nl[idx] = val\n",
    "    return nl"
   ]
  },
  {
   "cell_type": "code",
   "execution_count": 224,
   "metadata": {},
   "outputs": [],
   "source": [
    "size = 4\n",
    "cc = conflictcalculator(size)\n",
    "# init_playfield = np.random.randint(0, size, size)\n",
    "full_set = {i for i in range(size)}\n",
    "init_playfield = [-1, 1, -1, -1] #for now only support this"
   ]
  },
  {
   "cell_type": "code",
   "execution_count": 233,
   "metadata": {},
   "outputs": [
    {
     "name": "stdout",
     "output_type": "stream",
     "text": [
      "[-1, 1, -1, -1] g = 0, f = 0, h = 0, rc = False\n",
      "{0: 100, 2: 100, 3: 100}\n",
      "0\n",
      "[0, 1, -1, -1] 1 2 1 \n",
      "\n",
      "[1, 1, -1, -1] 1 2 1 \n",
      "\n",
      "[2, 1, -1, -1] 1 2 1 \n",
      "\n",
      "[3, 1, -1, -1] 1 1 0 \n",
      "\n",
      "[2, 1, -1, -1] g = 1, f = 2, h = 1, rc = False\n",
      "{2: 100, 3: 100}\n",
      "2\n",
      "[2, 1, 0, -1] 2 0 3 \n",
      "\n",
      "[2, 1, 1, -1] 2 0 2 \n",
      "\n",
      "[2, 1, 2, -1] 2 1 3 \n",
      "\n",
      "[2, 1, 3, -1] 2 1 1 \n",
      "\n",
      "[2, 1, 3, -1] g = 2, f = 1, h = 1, rc = False\n",
      "{3: 100}\n",
      "3\n",
      "[2, 1, 3, 0] 3 0 1 \n",
      "\n",
      "[2, 1, 3, 1] 3 0 2 \n",
      "\n",
      "[2, 1, 3, 2] 3 0 3 \n",
      "\n",
      "[2, 1, 3, 3] 3 0 3 \n",
      "\n"
     ]
    }
   ],
   "source": [
    "fringe = [game_node(init_playfield)] #make self-sorting list\n",
    "breaker = 0\n",
    "while len(fringe) > 0:\n",
    "    breaker += 1\n",
    "    if breaker > 3:\n",
    "        break\n",
    "    op = fringe.pop()\n",
    "    print(op)\n",
    "    conflicts = {idx:100 for idx, i in enumerate(op.playfield) if i == -1} # in the future, order by num conflicts per column, consider row conflicts as more important\n",
    "    print(conflicts)\n",
    "    new_min_c = conflicts[sorted(conflicts, key = lambda k: conflicts[k])[0]]\n",
    "    # new_pos = np.random.choice([i for i,k in conflicts.items() if k == new_min_c])\n",
    "    new_pos = [i for i,k in conflicts.items() if k == new_min_c][0]\n",
    "    print(new_pos)\n",
    "    for pot_col in range(size):\n",
    "        pot_playspace = list_replace_copy(op.playfield, new_pos, pot_col)\n",
    "        g = sum([True for i in pot_playspace if i != -1]) - 1\n",
    "\n",
    "        open_columns = [idx for idx,i in enumerate(pot_playspace) if i == -1]\n",
    "        closed_columns = full_set.difference(set(open_columns))\n",
    "        h = 0\n",
    "        for c1, c2 in combinations(closed_columns,2):\n",
    "            x = cc.r_calc(pot_playspace[c1], c1, size)\n",
    "            if((pot_playspace[c2] in x[c1]) or (pot_playspace[c2] in x[c2])):\n",
    "                # print(\"conflict found\", c1,c2)\n",
    "                h += 1\n",
    "        \n",
    "        full_spaces = set(product(full_set, open_columns))\n",
    "        for full_col_idx in closed_columns:\n",
    "            x = cc.r_calc(pot_playspace[full_col_idx], full_col_idx, size)\n",
    "            broken_spaces = set()\n",
    "            for r, c in full_spaces:\n",
    "                if ((r in x[full_col_idx]) or (r in x[c])):\n",
    "                    broken_spaces.add((r,c))\n",
    "            full_spaces = full_spaces.difference(broken_spaces)\n",
    "        f = len(full_spaces)\n",
    "        rc = len(x:=([pot_playspace[i] for i in closed_columns])) != len(np.unique(x))\n",
    "        print(pot_playspace, g, f, h, \"\\n\")\n",
    "        fringe.append(game_node(pot_playspace, g, f, h, rc))\n",
    "        # print(x, \"\\n\")\n",
    "        #calculate g, f, h\n",
    "    fringe = sorted(fringe)\n"
   ]
  },
  {
   "cell_type": "code",
   "execution_count": 234,
   "metadata": {},
   "outputs": [
    {
     "data": {
      "text/plain": [
       "[[2, 1, 0, -1] g = 2, f = 0, h = 3, rc = False,\n",
       " [2, 1, 1, -1] g = 2, f = 0, h = 2, rc = True,\n",
       " [2, 1, 2, -1] g = 2, f = 1, h = 3, rc = True,\n",
       " [2, 1, 3, 2] g = 3, f = 0, h = 3, rc = True,\n",
       " [2, 1, 3, 3] g = 3, f = 0, h = 3, rc = True,\n",
       " [2, 1, 3, 1] g = 3, f = 0, h = 2, rc = True,\n",
       " [3, 1, -1, -1] g = 1, f = 1, h = 0, rc = False,\n",
       " [1, 1, -1, -1] g = 1, f = 2, h = 1, rc = True,\n",
       " [0, 1, -1, -1] g = 1, f = 2, h = 1, rc = False,\n",
       " [2, 1, 3, 0] g = 3, f = 0, h = 1, rc = False]"
      ]
     },
     "execution_count": 234,
     "metadata": {},
     "output_type": "execute_result"
    }
   ],
   "source": [
    "fringe"
   ]
  },
  {
   "cell_type": "code",
   "execution_count": null,
   "metadata": {},
   "outputs": [],
   "source": []
  },
  {
   "cell_type": "code",
   "execution_count": null,
   "metadata": {},
   "outputs": [],
   "source": []
  },
  {
   "cell_type": "code",
   "execution_count": null,
   "metadata": {},
   "outputs": [],
   "source": []
  },
  {
   "cell_type": "code",
   "execution_count": null,
   "metadata": {},
   "outputs": [],
   "source": []
  },
  {
   "cell_type": "code",
   "execution_count": null,
   "metadata": {},
   "outputs": [],
   "source": []
  }
 ],
 "metadata": {
  "kernelspec": {
   "display_name": "Python 3",
   "language": "python",
   "name": "python3"
  },
  "language_info": {
   "codemirror_mode": {
    "name": "ipython",
    "version": 3
   },
   "file_extension": ".py",
   "mimetype": "text/x-python",
   "name": "python",
   "nbconvert_exporter": "python",
   "pygments_lexer": "ipython3",
   "version": "3.11.2"
  },
  "orig_nbformat": 4,
  "vscode": {
   "interpreter": {
    "hash": "949777d72b0d2535278d3dc13498b2535136f6dfe0678499012e853ee9abcab1"
   }
  }
 },
 "nbformat": 4,
 "nbformat_minor": 2
}
