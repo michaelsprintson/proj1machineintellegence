{
 "cells": [
  {
   "cell_type": "code",
   "execution_count": 1,
   "metadata": {},
   "outputs": [],
   "source": [
    "%load_ext autoreload\n",
    "%autoreload 2"
   ]
  },
  {
   "cell_type": "code",
   "execution_count": 2,
   "metadata": {},
   "outputs": [],
   "source": [
    "import numpy as np\n",
    "from func import link_maker\n",
    "from alg import astar,min_conflict,bfs\n",
    "import matplotlib.pyplot as plt"
   ]
  },
  {
   "cell_type": "code",
   "execution_count": 3,
   "metadata": {},
   "outputs": [],
   "source": [
    "size = 8\n",
    "\n",
    "# init_playfield = [-1, 1, -1, -1] \n",
    "# init_playfield = [1, -1, 2, 0] \n",
    "init_playfield = [-1, 0, -1, -1, -1, -1, -1, -1] \n",
    "# init_playfield = [1, 5, 3, 4, 6, 2, 7, 0]"
   ]
  },
  {
   "cell_type": "code",
   "execution_count": 4,
   "metadata": {},
   "outputs": [
    {
     "name": "stdout",
     "output_type": "stream",
     "text": [
      "[5, 3, 0, 4, 7, 1, 6, 2] 93\n"
     ]
    },
    {
     "data": {
      "text/plain": [
       "'https://lichess.org/editor/2Q5/5Q2/7Q/1Q6/3Q4/Q7/6Q1/4Q3_w_-_-_0_1?color=white'"
      ]
     },
     "execution_count": 4,
     "metadata": {},
     "output_type": "execute_result"
    }
   ],
   "source": [
    "ap, b = astar(size, init_playfield, 100)\n",
    "print(ap, b)\n",
    "link_maker(ap)"
   ]
  },
  {
   "cell_type": "code",
   "execution_count": null,
   "metadata": {},
   "outputs": [],
   "source": []
  },
  {
   "cell_type": "code",
   "execution_count": null,
   "metadata": {},
   "outputs": [],
   "source": [
    "from tqdm import tqdm\n",
    "a_s = []\n",
    "a2_s = []\n",
    "mc_s = []\n",
    "for _ in tqdm(range(1000)):\n",
    "    init_playfield = list(np.random.randint(0, size, size))\n",
    "    a_playfield, a_breaker = astar(size, init_playfield, 100)\n",
    "    # a2_playfield, a2_breaker = astar(size, init_playfield, 100, kflag = True)\n",
    "    mc_playfield, mc_breaker = min_conflict(init_playfield, size, 100)\n",
    "    a_s.append(a_breaker)\n",
    "    # a2_s.append(a2_breaker)\n",
    "    mc_s.append(mc_breaker)\n",
    "# print(link_maker(a_playfield) if a_breaker <= 100 else \"\\n\")\n",
    "# print(link_maker(mc_playfield) if mc_breaker <= 100 else \"\\n\")"
   ]
  },
  {
   "cell_type": "code",
   "execution_count": 6,
   "metadata": {},
   "outputs": [
    {
     "data": {
      "image/png": "[encoded data removed]",
      "text/plain": [
       "<Figure size 640x480 with 1 Axes>"
      ]
     },
     "metadata": {},
     "output_type": "display_data"
    }
   ],
   "source": [
    "plt.hist(a_s, alpha = 0.4, label = \"astar\")\n",
    "plt.hist(mc_s, alpha = 0.4, label = \"min conflict\")\n",
    "plt.legend()\n",
    "plt.show()"
   ]
  },
  {
   "cell_type": "code",
   "execution_count": 7,
   "metadata": {},
   "outputs": [
    {
     "name": "stdout",
     "output_type": "stream",
     "text": [
      "found [0, 6, 4, 7, 1, 3, 5, 2]\n"
     ]
    },
    {
     "data": {
      "text/plain": [
       "'https://lichess.org/editor/Q7/4Q3/7Q/5Q2/2Q5/6Q1/1Q6/3Q4_w_-_-_0_1?color=white'"
      ]
     },
     "execution_count": 7,
     "metadata": {},
     "output_type": "execute_result"
    }
   ],
   "source": [
    "pf = bfs(8, True)\n",
    "link_maker(pf)"
   ]
  }
 ],
 "metadata": {
  "kernelspec": {
   "display_name": "Python 3",
   "language": "python",
   "name": "python3"
  },
  "language_info": {
   "codemirror_mode": {
    "name": "ipython",
    "version": 3
   },
   "file_extension": ".py",
   "mimetype": "text/x-python",
   "name": "python",
   "nbconvert_exporter": "python",
   "pygments_lexer": "ipython3",
   "version": "3.11.2"
  },
  "orig_nbformat": 4,
  "vscode": {
   "interpreter": {
    "hash": "949777d72b0d2535278d3dc13498b2535136f6dfe0678499012e853ee9abcab1"
   }
  }
 },
 "nbformat": 4,
 "nbformat_minor": 2
}
