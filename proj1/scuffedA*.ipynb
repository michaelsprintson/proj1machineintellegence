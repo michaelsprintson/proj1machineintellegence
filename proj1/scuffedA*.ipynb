{
 "cells": [
  {
   "cell_type": "code",
   "execution_count": 1,
   "metadata": {},
   "outputs": [],
   "source": [
    "import numpy as np\n",
    "from func import link_maker\n",
    "from alg import astar,min_conflict\n",
    "import matplotlib.pyplot as plt"
   ]
  },
  {
   "cell_type": "code",
   "execution_count": 2,
   "metadata": {},
   "outputs": [],
   "source": [
    "size = 8\n",
    "\n",
    "# init_playfield = [-1, 1, -1, -1] \n",
    "# init_playfield = [1, -1, 2, 0] \n",
    "init_playfield = [-1, 0, -1, -1, -1, -1, -1, -1] \n",
    "# init_playfield = [1, 5, 3, 4, 6, 2, 7, 0]"
   ]
  },
  {
   "cell_type": "code",
   "execution_count": 3,
   "metadata": {},
   "outputs": [
    {
     "name": "stdout",
     "output_type": "stream",
     "text": [
      "[5, 3, 0, 4, 7, 1, 6, 2] 93\n"
     ]
    },
    {
     "data": {
      "text/plain": [
       "'https://lichess.org/editor/2Q5/5Q2/7Q/1Q6/3Q4/Q7/6Q1/4Q3_w_-_-_0_1?color=white'"
      ]
     },
     "execution_count": 3,
     "metadata": {},
     "output_type": "execute_result"
    }
   ],
   "source": [
    "ap, b = astar(size, init_playfield, 100)\n",
    "print(ap, b)\n",
    "link_maker(ap)"
   ]
  },
  {
   "cell_type": "code",
   "execution_count": null,
   "metadata": {},
   "outputs": [],
   "source": []
  },
  {
   "cell_type": "code",
   "execution_count": null,
   "metadata": {},
   "outputs": [],
   "source": []
  },
  {
   "cell_type": "code",
   "execution_count": 15,
   "metadata": {},
   "outputs": [
    {
     "name": "stderr",
     "output_type": "stream",
     "text": [
      "  0%|          | 5/1000 [00:26<1:27:02,  5.25s/it]\n"
     ]
    },
    {
     "ename": "KeyboardInterrupt",
     "evalue": "",
     "output_type": "error",
     "traceback": [
      "\u001b[0;31m---------------------------------------------------------------------------\u001b[0m",
      "\u001b[0;31mKeyboardInterrupt\u001b[0m                         Traceback (most recent call last)",
      "Cell \u001b[0;32mIn[15], line 8\u001b[0m\n\u001b[1;32m      6\u001b[0m init_playfield \u001b[39m=\u001b[39m \u001b[39mlist\u001b[39m(np\u001b[39m.\u001b[39mrandom\u001b[39m.\u001b[39mrandint(\u001b[39m0\u001b[39m, size, size))\n\u001b[1;32m      7\u001b[0m a_playfield, a_breaker \u001b[39m=\u001b[39m astar(size, init_playfield, \u001b[39m100\u001b[39m)\n\u001b[0;32m----> 8\u001b[0m a2_playfield, a2_breaker \u001b[39m=\u001b[39m astar(size, init_playfield, \u001b[39m100\u001b[39;49m, kflag \u001b[39m=\u001b[39;49m \u001b[39mTrue\u001b[39;49;00m)\n\u001b[1;32m      9\u001b[0m mc_playfield, mc_breaker \u001b[39m=\u001b[39m min_conflict(init_playfield, size, \u001b[39m100\u001b[39m)\n\u001b[1;32m     10\u001b[0m a_s\u001b[39m.\u001b[39mappend(a_breaker)\n",
      "File \u001b[0;32m/workspaces/machine intellegence/proj1/alg.py:169\u001b[0m, in \u001b[0;36mastar\u001b[0;34m(size, init_playfield, max_iter, printflag, kflag)\u001b[0m\n\u001b[1;32m    167\u001b[0m \u001b[39mfor\u001b[39;00m pot_col \u001b[39min\u001b[39;00m \u001b[39mrange\u001b[39m(size):\n\u001b[1;32m    168\u001b[0m     pot_playspace \u001b[39m=\u001b[39m list_replace_copy(op\u001b[39m.\u001b[39mplayfield, new_pos, pot_col)\n\u001b[0;32m--> 169\u001b[0m     g, f, h, rc, colsplit \u001b[39m=\u001b[39m makegfhrc(pot_playspace, cc, size, kflag\u001b[39m=\u001b[39;49mkflag)\n\u001b[1;32m    171\u001b[0m     \u001b[39m# print(pot_playspace, g, f, h, \"\\n\")\u001b[39;00m\n\u001b[1;32m    172\u001b[0m     \u001b[39mif\u001b[39;00m \u001b[39mlen\u001b[39m(colsplit)\u001b[39m>\u001b[39m\u001b[39m0\u001b[39m:\n",
      "File \u001b[0;32m/workspaces/machine intellegence/proj1/alg.py:117\u001b[0m, in \u001b[0;36mmakegfhrc\u001b[0;34m(pot_playspace, cc, size, kflag)\u001b[0m\n\u001b[1;32m    115\u001b[0m open_columns \u001b[39m=\u001b[39m [idx \u001b[39mfor\u001b[39;00m idx,i \u001b[39min\u001b[39;00m \u001b[39menumerate\u001b[39m(pot_playspace) \u001b[39mif\u001b[39;00m i \u001b[39m==\u001b[39m \u001b[39m-\u001b[39m\u001b[39m1\u001b[39m]\n\u001b[1;32m    116\u001b[0m closed_columns \u001b[39m=\u001b[39m full_set\u001b[39m.\u001b[39mdifference(\u001b[39mset\u001b[39m(open_columns))\n\u001b[0;32m--> 117\u001b[0m h, colsplit \u001b[39m=\u001b[39m h_calc(pot_playspace, cc, size)\n\u001b[1;32m    119\u001b[0m full_spaces \u001b[39m=\u001b[39m \u001b[39mset\u001b[39m(product(full_set, open_columns))\n\u001b[1;32m    120\u001b[0m \u001b[39mfor\u001b[39;00m full_col_idx \u001b[39min\u001b[39;00m closed_columns:\n",
      "File \u001b[0;32m/workspaces/machine intellegence/proj1/alg.py:105\u001b[0m, in \u001b[0;36mh_calc\u001b[0;34m(pot_playspace, cc, size)\u001b[0m\n\u001b[1;32m    103\u001b[0m conflicted_columns \u001b[39m=\u001b[39m []\n\u001b[1;32m    104\u001b[0m \u001b[39mfor\u001b[39;00m c1, c2 \u001b[39min\u001b[39;00m combinations(closed_columns,\u001b[39m2\u001b[39m):\n\u001b[0;32m--> 105\u001b[0m     x \u001b[39m=\u001b[39m cc\u001b[39m.\u001b[39;49mr_calc(pot_playspace[c1], c1, size)\n\u001b[1;32m    106\u001b[0m     \u001b[39mif\u001b[39;00m((pot_playspace[c2] \u001b[39min\u001b[39;00m x[c1]) \u001b[39mor\u001b[39;00m (pot_playspace[c2] \u001b[39min\u001b[39;00m x[c2])):\n\u001b[1;32m    107\u001b[0m         conflicted_columns\u001b[39m.\u001b[39mappend(c1)\n",
      "File \u001b[0;32m/workspaces/machine intellegence/proj1/func.py:29\u001b[0m, in \u001b[0;36mconflictcalculator.__init__.<locals>.<lambda>\u001b[0;34m(r, c, s)\u001b[0m\n\u001b[1;32m     27\u001b[0m \u001b[39mself\u001b[39m\u001b[39m.\u001b[39mfilt \u001b[39m=\u001b[39m \u001b[39mlambda\u001b[39;00m x: (y\u001b[39m:=\u001b[39mnp\u001b[39m.\u001b[39munique(np\u001b[39m.\u001b[39mwhere([\u001b[39m0\u001b[39m\u001b[39m<\u001b[39m\u001b[39m=\u001b[39mi\u001b[39m<\u001b[39msize \u001b[39mfor\u001b[39;00m i \u001b[39min\u001b[39;00m x], x, \u001b[39m-\u001b[39m\u001b[39m1\u001b[39m)))[y\u001b[39m>\u001b[39m\u001b[39m=\u001b[39m\u001b[39m0\u001b[39m]\n\u001b[1;32m     28\u001b[0m \u001b[39mself\u001b[39m\u001b[39m.\u001b[39mr_h \u001b[39m=\u001b[39m \u001b[39mlambda\u001b[39;00m x: [\u001b[39mset\u001b[39m(\u001b[39mself\u001b[39m\u001b[39m.\u001b[39mfilt(i)) \u001b[39mfor\u001b[39;00m i \u001b[39min\u001b[39;00m x]\n\u001b[0;32m---> 29\u001b[0m \u001b[39mself\u001b[39m\u001b[39m.\u001b[39mr_calc \u001b[39m=\u001b[39m \u001b[39mlambda\u001b[39;00m r,c,s : \u001b[39mself\u001b[39;49m\u001b[39m.\u001b[39;49mr_h(np\u001b[39m.\u001b[39;49marray([[r\u001b[39m-\u001b[39;49m(i\u001b[39m:=\u001b[39;49m np\u001b[39m.\u001b[39;49mabs(c\u001b[39m-\u001b[39;49mx)), r\u001b[39m+\u001b[39;49mi]\u001b[39mfor\u001b[39;49;00m x \u001b[39min\u001b[39;49;00m \u001b[39mrange\u001b[39;49m(s)]))\n",
      "File \u001b[0;32m/workspaces/machine intellegence/proj1/func.py:28\u001b[0m, in \u001b[0;36mconflictcalculator.__init__.<locals>.<lambda>\u001b[0;34m(x)\u001b[0m\n\u001b[1;32m     26\u001b[0m \u001b[39mself\u001b[39m\u001b[39m.\u001b[39msize \u001b[39m=\u001b[39m size\n\u001b[1;32m     27\u001b[0m \u001b[39mself\u001b[39m\u001b[39m.\u001b[39mfilt \u001b[39m=\u001b[39m \u001b[39mlambda\u001b[39;00m x: (y\u001b[39m:=\u001b[39mnp\u001b[39m.\u001b[39munique(np\u001b[39m.\u001b[39mwhere([\u001b[39m0\u001b[39m\u001b[39m<\u001b[39m\u001b[39m=\u001b[39mi\u001b[39m<\u001b[39msize \u001b[39mfor\u001b[39;00m i \u001b[39min\u001b[39;00m x], x, \u001b[39m-\u001b[39m\u001b[39m1\u001b[39m)))[y\u001b[39m>\u001b[39m\u001b[39m=\u001b[39m\u001b[39m0\u001b[39m]\n\u001b[0;32m---> 28\u001b[0m \u001b[39mself\u001b[39m\u001b[39m.\u001b[39mr_h \u001b[39m=\u001b[39m \u001b[39mlambda\u001b[39;00m x: [\u001b[39mset\u001b[39;49m(\u001b[39mself\u001b[39;49m\u001b[39m.\u001b[39;49mfilt(i)) \u001b[39mfor\u001b[39;49;00m i \u001b[39min\u001b[39;49;00m x]\n\u001b[1;32m     29\u001b[0m \u001b[39mself\u001b[39m\u001b[39m.\u001b[39mr_calc \u001b[39m=\u001b[39m \u001b[39mlambda\u001b[39;00m r,c,s : \u001b[39mself\u001b[39m\u001b[39m.\u001b[39mr_h(np\u001b[39m.\u001b[39marray([[r\u001b[39m-\u001b[39m(i\u001b[39m:=\u001b[39m np\u001b[39m.\u001b[39mabs(c\u001b[39m-\u001b[39mx)), r\u001b[39m+\u001b[39mi]\u001b[39mfor\u001b[39;00m x \u001b[39min\u001b[39;00m \u001b[39mrange\u001b[39m(s)]))\n",
      "File \u001b[0;32m/workspaces/machine intellegence/proj1/func.py:28\u001b[0m, in \u001b[0;36m<listcomp>\u001b[0;34m(.0)\u001b[0m\n\u001b[1;32m     26\u001b[0m \u001b[39mself\u001b[39m\u001b[39m.\u001b[39msize \u001b[39m=\u001b[39m size\n\u001b[1;32m     27\u001b[0m \u001b[39mself\u001b[39m\u001b[39m.\u001b[39mfilt \u001b[39m=\u001b[39m \u001b[39mlambda\u001b[39;00m x: (y\u001b[39m:=\u001b[39mnp\u001b[39m.\u001b[39munique(np\u001b[39m.\u001b[39mwhere([\u001b[39m0\u001b[39m\u001b[39m<\u001b[39m\u001b[39m=\u001b[39mi\u001b[39m<\u001b[39msize \u001b[39mfor\u001b[39;00m i \u001b[39min\u001b[39;00m x], x, \u001b[39m-\u001b[39m\u001b[39m1\u001b[39m)))[y\u001b[39m>\u001b[39m\u001b[39m=\u001b[39m\u001b[39m0\u001b[39m]\n\u001b[0;32m---> 28\u001b[0m \u001b[39mself\u001b[39m\u001b[39m.\u001b[39mr_h \u001b[39m=\u001b[39m \u001b[39mlambda\u001b[39;00m x: [\u001b[39mset\u001b[39m(\u001b[39mself\u001b[39;49m\u001b[39m.\u001b[39;49mfilt(i)) \u001b[39mfor\u001b[39;00m i \u001b[39min\u001b[39;00m x]\n\u001b[1;32m     29\u001b[0m \u001b[39mself\u001b[39m\u001b[39m.\u001b[39mr_calc \u001b[39m=\u001b[39m \u001b[39mlambda\u001b[39;00m r,c,s : \u001b[39mself\u001b[39m\u001b[39m.\u001b[39mr_h(np\u001b[39m.\u001b[39marray([[r\u001b[39m-\u001b[39m(i\u001b[39m:=\u001b[39m np\u001b[39m.\u001b[39mabs(c\u001b[39m-\u001b[39mx)), r\u001b[39m+\u001b[39mi]\u001b[39mfor\u001b[39;00m x \u001b[39min\u001b[39;00m \u001b[39mrange\u001b[39m(s)]))\n",
      "File \u001b[0;32m/workspaces/machine intellegence/proj1/func.py:27\u001b[0m, in \u001b[0;36mconflictcalculator.__init__.<locals>.<lambda>\u001b[0;34m(x)\u001b[0m\n\u001b[1;32m     25\u001b[0m \u001b[39mdef\u001b[39;00m \u001b[39m__init__\u001b[39m(\u001b[39mself\u001b[39m, size):\n\u001b[1;32m     26\u001b[0m     \u001b[39mself\u001b[39m\u001b[39m.\u001b[39msize \u001b[39m=\u001b[39m size\n\u001b[0;32m---> 27\u001b[0m     \u001b[39mself\u001b[39m\u001b[39m.\u001b[39mfilt \u001b[39m=\u001b[39m \u001b[39mlambda\u001b[39;00m x: (y\u001b[39m:=\u001b[39mnp\u001b[39m.\u001b[39;49munique(np\u001b[39m.\u001b[39;49mwhere([\u001b[39m0\u001b[39;49m\u001b[39m<\u001b[39;49m\u001b[39m=\u001b[39;49mi\u001b[39m<\u001b[39;49msize \u001b[39mfor\u001b[39;49;00m i \u001b[39min\u001b[39;49;00m x], x, \u001b[39m-\u001b[39;49m\u001b[39m1\u001b[39;49m)))[y\u001b[39m>\u001b[39m\u001b[39m=\u001b[39m\u001b[39m0\u001b[39m]\n\u001b[1;32m     28\u001b[0m     \u001b[39mself\u001b[39m\u001b[39m.\u001b[39mr_h \u001b[39m=\u001b[39m \u001b[39mlambda\u001b[39;00m x: [\u001b[39mset\u001b[39m(\u001b[39mself\u001b[39m\u001b[39m.\u001b[39mfilt(i)) \u001b[39mfor\u001b[39;00m i \u001b[39min\u001b[39;00m x]\n\u001b[1;32m     29\u001b[0m     \u001b[39mself\u001b[39m\u001b[39m.\u001b[39mr_calc \u001b[39m=\u001b[39m \u001b[39mlambda\u001b[39;00m r,c,s : \u001b[39mself\u001b[39m\u001b[39m.\u001b[39mr_h(np\u001b[39m.\u001b[39marray([[r\u001b[39m-\u001b[39m(i\u001b[39m:=\u001b[39m np\u001b[39m.\u001b[39mabs(c\u001b[39m-\u001b[39mx)), r\u001b[39m+\u001b[39mi]\u001b[39mfor\u001b[39;00m x \u001b[39min\u001b[39;00m \u001b[39mrange\u001b[39m(s)]))\n",
      "File \u001b[0;32m<__array_function__ internals>:200\u001b[0m, in \u001b[0;36munique\u001b[0;34m(*args, **kwargs)\u001b[0m\n",
      "File \u001b[0;32m~/.local/lib/python3.11/site-packages/numpy/lib/arraysetops.py:276\u001b[0m, in \u001b[0;36munique\u001b[0;34m(ar, return_index, return_inverse, return_counts, axis, equal_nan)\u001b[0m\n\u001b[1;32m    273\u001b[0m \u001b[39mif\u001b[39;00m axis \u001b[39mis\u001b[39;00m \u001b[39mNone\u001b[39;00m:\n\u001b[1;32m    274\u001b[0m     ret \u001b[39m=\u001b[39m _unique1d(ar, return_index, return_inverse, return_counts, \n\u001b[1;32m    275\u001b[0m                     equal_nan\u001b[39m=\u001b[39mequal_nan)\n\u001b[0;32m--> 276\u001b[0m     \u001b[39mreturn\u001b[39;00m _unpack_tuple(ret)\n\u001b[1;32m    278\u001b[0m \u001b[39m# axis was specified and not None\u001b[39;00m\n\u001b[1;32m    279\u001b[0m \u001b[39mtry\u001b[39;00m:\n",
      "File \u001b[0;32m~/.local/lib/python3.11/site-packages/numpy/lib/arraysetops.py:125\u001b[0m, in \u001b[0;36m_unpack_tuple\u001b[0;34m(x)\u001b[0m\n\u001b[1;32m    121\u001b[0m     np\u001b[39m.\u001b[39msubtract(ary[\u001b[39m1\u001b[39m:], ary[:\u001b[39m-\u001b[39m\u001b[39m1\u001b[39m], result[l_begin:l_begin \u001b[39m+\u001b[39m l_diff])\n\u001b[1;32m    122\u001b[0m     \u001b[39mreturn\u001b[39;00m result\n\u001b[0;32m--> 125\u001b[0m \u001b[39mdef\u001b[39;00m \u001b[39m_unpack_tuple\u001b[39m(x):\n\u001b[1;32m    126\u001b[0m \u001b[39m    \u001b[39m\u001b[39m\"\"\" Unpacks one-element tuples for use as return values \"\"\"\u001b[39;00m\n\u001b[1;32m    127\u001b[0m     \u001b[39mif\u001b[39;00m \u001b[39mlen\u001b[39m(x) \u001b[39m==\u001b[39m \u001b[39m1\u001b[39m:\n",
      "\u001b[0;31mKeyboardInterrupt\u001b[0m: "
     ]
    }
   ],
   "source": [
    "from tqdm import tqdm\n",
    "a_s = []\n",
    "a2_s = []\n",
    "mc_s = []\n",
    "for _ in tqdm(range(1000)):\n",
    "    init_playfield = list(np.random.randint(0, size, size))\n",
    "    a_playfield, a_breaker = astar(size, init_playfield, 100)\n",
    "    # a2_playfield, a2_breaker = astar(size, init_playfield, 100, kflag = True)\n",
    "    mc_playfield, mc_breaker = min_conflict(init_playfield, size, 100)\n",
    "    a_s.append(a_breaker)\n",
    "    # a2_s.append(a2_breaker)\n",
    "    mc_s.append(mc_breaker)\n",
    "# print(link_maker(a_playfield) if a_breaker <= 100 else \"\\n\")\n",
    "# print(link_maker(mc_playfield) if mc_breaker <= 100 else \"\\n\")"
   ]
  },
  {
   "cell_type": "code",
   "execution_count": null,
   "metadata": {},
   "outputs": [
    {
     "data": {
      "image/png": "[encoded data removed]",
      "text/plain": [
       "<Figure size 640x480 with 1 Axes>"
      ]
     },
     "metadata": {},
     "output_type": "display_data"
    }
   ],
   "source": [
    "plt.hist(a_s, alpha = 0.4, label = \"astar\")\n",
    "plt.hist(mc_s, alpha = 0.4, label = \"min conflict\")\n",
    "plt.legend()\n",
    "plt.show()"
   ]
  },
  {
   "cell_type": "code",
   "execution_count": null,
   "metadata": {},
   "outputs": [],
   "source": []
  },
  {
   "cell_type": "code",
   "execution_count": null,
   "metadata": {},
   "outputs": [],
   "source": []
  }
 ],
 "metadata": {
  "kernelspec": {
   "display_name": "Python 3",
   "language": "python",
   "name": "python3"
  },
  "language_info": {
   "codemirror_mode": {
    "name": "ipython",
    "version": 3
   },
   "file_extension": ".py",
   "mimetype": "text/x-python",
   "name": "python",
   "nbconvert_exporter": "python",
   "pygments_lexer": "ipython3",
   "version": "3.11.2"
  },
  "orig_nbformat": 4,
  "vscode": {
   "interpreter": {
    "hash": "949777d72b0d2535278d3dc13498b2535136f6dfe0678499012e853ee9abcab1"
   }
  }
 },
 "nbformat": 4,
 "nbformat_minor": 2
}
