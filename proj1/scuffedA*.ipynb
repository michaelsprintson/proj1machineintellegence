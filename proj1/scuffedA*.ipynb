{
 "cells": [
  {
   "cell_type": "code",
   "execution_count": 240,
   "metadata": {},
   "outputs": [],
   "source": [
    "import numpy as np\n",
    "import copy\n",
    "from func import conflictcalculator, link_maker\n",
    "from itertools import product, combinations\n",
    "from collections import Counter"
   ]
  },
  {
   "cell_type": "code",
   "execution_count": 303,
   "metadata": {},
   "outputs": [],
   "source": [
    "class game_node():\n",
    "    def __init__(self, playfield, g = 0, f = 0, h = 0, rc = False, ccol = None, ccolval = 0) -> None:\n",
    "        l = locals()\n",
    "        [self.__setattr__(name, l[name]) for name in self.__init__.__code__.co_varnames if name != \"self\"]\n",
    "    \n",
    "    def calc_score(self):\n",
    "        return self.g+self.f-self.h\n",
    "\n",
    "    def __eq__(self, other):\n",
    "        if (self.playfield == other.playfield) and (self.calc_score() == other.calc_score()) and (self.rc == other.rc) and (self.ccol == other.ccol):\n",
    "            return True\n",
    "        return False\n",
    "\n",
    "    def __lt__(self, other): #is self less than other\n",
    "        o1, o2 = self.calc_score(), other.calc_score()\n",
    "        if o1 == o2:\n",
    "            if self.g == other.g:\n",
    "                if self.f == other.f:\n",
    "                    if self.h == other.h:\n",
    "                        if self.rc == other.rc:\n",
    "                            if self.ccolval == other.ccolval:\n",
    "                                return True\n",
    "                            else:\n",
    "                                return False # objects are equal\n",
    "                        else:\n",
    "                            return self.rc\n",
    "                    else:\n",
    "                        return self.h > other.h\n",
    "                else:\n",
    "                    return self.f < other.f\n",
    "            else:\n",
    "                return self.g < other.g\n",
    "        else:\n",
    "            return o1 < o2\n",
    "\n",
    "    def __repr__(self):\n",
    "        return str(self.playfield) + f\" g = {self.g}, f = {self.f}, h = {self.h}, rc = {self.rc}, cc = {self.ccol},{self.ccolval} \\n\""
   ]
  },
  {
   "cell_type": "code",
   "execution_count": 304,
   "metadata": {},
   "outputs": [],
   "source": [
    "def list_replace_copy(list, idx, val):\n",
    "    nl = copy.copy(list)\n",
    "    nl[idx] = val\n",
    "    return nl"
   ]
  },
  {
   "cell_type": "code",
   "execution_count": 333,
   "metadata": {},
   "outputs": [],
   "source": [
    "size = 4\n",
    "# init_playfield = np.random.randint(0, size, size)\n",
    "# init_playfield = [-1, 1, -1, -1] #for now only support this\n",
    "init_playfield = [1, -1, 2, 0] #for now only support this\n",
    "# init_playfield = [-1, -1, -1, -1, -1, -1, -1, 0] #for now only support this"
   ]
  },
  {
   "cell_type": "code",
   "execution_count": 335,
   "metadata": {},
   "outputs": [
    {
     "name": "stdout",
     "output_type": "stream",
     "text": [
      "[1, -1, 2, 0] g = 0, f = 0, h = 0, rc = False, cc = None,0 \n",
      " operating on 1\n",
      "[1, 3, 2, 0] g = 3, f = 0, h = 1, rc = False, cc = 1,1 \n",
      "\n",
      "[1, 3, 2, 0] g = 3, f = 0, h = 1, rc = False, cc = 2,1 \n",
      "\n",
      "[1, 3, 0, 0] g = 3, f = 0, h = 1, rc = True, cc = 2,1 \n",
      "\n",
      "[1, 3, 0, 0] g = 3, f = 0, h = 1, rc = True, cc = 3,1 \n",
      "\n",
      "[1, 3, 0, 2] g = 3, f = 0, h = 0, rc = False, cc = None,0 \n",
      "\n",
      "found [1, 3, 0, 2]\n"
     ]
    }
   ],
   "source": [
    "cc = conflictcalculator(size)\n",
    "fringe = [game_node(init_playfield)] #make self-sorting list\n",
    "full_set = {i for i in range(size)}\n",
    "explored_nodes = list()\n",
    "breaker = 0\n",
    "while len(fringe) > 0:\n",
    "    breaker += 1\n",
    "    if breaker > 10:\n",
    "        break\n",
    "    op = fringe.pop()\n",
    "    explored_nodes.append(op)\n",
    "    if len([idx for idx,i in enumerate(op.playfield) if i == -1]) > 0:\n",
    "        new_pos =  [idx for idx, i in enumerate(op.playfield) if i == -1][0]# in the future, order by num conflicts per column, consider row conflicts as more important\n",
    "        # new_pos = np.random.choice([i for i,k in conflicts.items() if k == new_min_c])\n",
    "        print(op, \"operating on\", new_pos)\n",
    "    else:\n",
    "        new_pos = op.ccol\n",
    "        print(op)\n",
    "    if new_pos is None:\n",
    "        print(\"found\", op.playfield)\n",
    "        break\n",
    "    for pot_col in range(size):\n",
    "        pot_playspace = list_replace_copy(op.playfield, new_pos, pot_col)\n",
    "        g = sum([True for i in pot_playspace if i != -1]) - 1\n",
    "\n",
    "        open_columns = [idx for idx,i in enumerate(pot_playspace) if i == -1]\n",
    "        closed_columns = full_set.difference(set(open_columns))\n",
    "        h = 0\n",
    "        conflicted_columns = []\n",
    "        for c1, c2 in combinations(closed_columns,2):\n",
    "            x = cc.r_calc(pot_playspace[c1], c1, size)\n",
    "            if((pot_playspace[c2] in x[c1]) or (pot_playspace[c2] in x[c2])):\n",
    "                conflicted_columns.append(c1)\n",
    "                conflicted_columns.append(c2)\n",
    "                h += 1\n",
    "        \n",
    "        full_spaces = set(product(full_set, open_columns))\n",
    "        for full_col_idx in closed_columns:\n",
    "            x = cc.r_calc(pot_playspace[full_col_idx], full_col_idx, size)\n",
    "            broken_spaces = set()\n",
    "            for r, c in full_spaces:\n",
    "                if ((r in x[full_col_idx]) or (r in x[c])):\n",
    "                    broken_spaces.add((r,c))\n",
    "            full_spaces = full_spaces.difference(broken_spaces)\n",
    "        f = len(full_spaces)\n",
    "        rc = len(x:=([pot_playspace[i] for i in closed_columns])) != len(np.unique(x))\n",
    "        # print(pot_playspace, g, f, h, \"\\n\")\n",
    "        colsplit = dict(Counter(conflicted_columns))\n",
    "        # print(pot_playspace, conflicted_columns, colsplit)\n",
    "        if len(colsplit)>0:\n",
    "            for k,v in colsplit.items():\n",
    "                new_node = game_node(pot_playspace, g, f, h, rc, ccol = k, ccolval=v)\n",
    "                fringe.append(new_node) if ((new_node not in fringe) and (new_node not in explored_nodes)) else None\n",
    "        else:\n",
    "            new_node = game_node(pot_playspace, g, f, h, rc)\n",
    "            fringe.append(new_node) if ((new_node not in fringe) and (new_node not in explored_nodes)) else None\n",
    "        # print(x, \"\\n\")\n",
    "        #calculate g, f, h\n",
    "    fringe = sorted(fringe)\n",
    "    # fringe = sorted(fringe)\n",
    "    # print(fringe)\n"
   ]
  },
  {
   "cell_type": "code",
   "execution_count": null,
   "metadata": {},
   "outputs": [],
   "source": []
  },
  {
   "cell_type": "code",
   "execution_count": null,
   "metadata": {},
   "outputs": [],
   "source": []
  }
 ],
 "metadata": {
  "kernelspec": {
   "display_name": "Python 3",
   "language": "python",
   "name": "python3"
  },
  "language_info": {
   "codemirror_mode": {
    "name": "ipython",
    "version": 3
   },
   "file_extension": ".py",
   "mimetype": "text/x-python",
   "name": "python",
   "nbconvert_exporter": "python",
   "pygments_lexer": "ipython3",
   "version": "3.11.2"
  },
  "orig_nbformat": 4,
  "vscode": {
   "interpreter": {
    "hash": "949777d72b0d2535278d3dc13498b2535136f6dfe0678499012e853ee9abcab1"
   }
  }
 },
 "nbformat": 4,
 "nbformat_minor": 2
}
