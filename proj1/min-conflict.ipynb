{
 "cells": [
  {
   "attachments": {},
   "cell_type": "markdown",
   "metadata": {},
   "source": [
    "MIN CONFLICT HEURISTIC"
   ]
  },
  {
   "cell_type": "code",
   "execution_count": 1,
   "metadata": {},
   "outputs": [],
   "source": [
    "import numpy as np\n",
    "import copy\n",
    "from func import conflictcalculator, yeilder\n",
    "from collections import Counter\n"
   ]
  },
  {
   "cell_type": "code",
   "execution_count": 19,
   "metadata": {},
   "outputs": [
    {
     "name": "stdout",
     "output_type": "stream",
     "text": [
      "[4 3 1 6 0 5 2 7]\n",
      "0 changed 4 to 5\n",
      "5 changed 5 to 6\n",
      "3 changed 6 to 6\n",
      "5 changed 6 to 2\n",
      "6 changed 2 to 4\n",
      "1 changed 3 to 3\n",
      "4 changed 0 to 0\n",
      "1 changed 3 to 5\n",
      "0 changed 5 to 1\n",
      "2 changed 1 to 3\n",
      "0 changed 1 to 2\n",
      "5 changed 2 to 2\n",
      "0 changed 2 to 1\n",
      "2 changed 3 to 3\n",
      "0 changed 1 to 2\n",
      "5 changed 2 to 2\n",
      "0 changed 2 to 2\n",
      "5 changed 2 to 2\n",
      "0 changed 2 to 1\n",
      "[1 5 3 6 0 2 4 7] 21\n"
     ]
    }
   ],
   "source": [
    "size = 8\n",
    "cc = conflictcalculator(size)\n",
    "playfield = np.random.permutation(size)\n",
    "# playfield = [3,0,2,1]\n",
    "cct = conflictcalculator(size)\n",
    "b_dict = {}\n",
    "y = yeilder(size)\n",
    "# print((cct.generate_link(playfield)))\n",
    "print(playfield)\n",
    "breaker = 0\n",
    "for check_i in y.get_next_column():\n",
    "    breaker += 1\n",
    "    if breaker > 20:\n",
    "        break\n",
    "        \n",
    "    x = cct.r_calc(playfield[check_i],check_i,size) #calculate if its broken\n",
    "    broken_flag = False\n",
    "    for cidx,ridx in enumerate(playfield):\n",
    "        if cidx != check_i:\n",
    "            if((ridx in x[check_i]) or (ridx in x[cidx])):\n",
    "                broken_flag = True\n",
    "    # print(check_i,broken_flag)\n",
    "    if broken_flag: # if its broken, calculate which row it would have least conflicts in\n",
    "        conflicts = {}\n",
    "        for k in range(size):\n",
    "            x = cct.r_calc(k, check_i, size)\n",
    "            conflicts[k] = len([j for j in [idx for idx,i in enumerate(playfield) if ((i in x[idx]) or (i in x[check_i]))] if j!= check_i])\n",
    "        # print(conflicts)\n",
    "        # choose new pos with min conflict\n",
    "        new_min_c = conflicts[sorted(conflicts, key = lambda k: conflicts[k])[0]]\n",
    "        new_pos = np.random.choice([i for i,k in conflicts.items() if k == new_min_c])\n",
    "        # print(playfield[check_i], new_pos)\n",
    "\n",
    "        # calculate conflicts with new pos\n",
    "        x = cct.r_calc(new_pos, check_i,size)\n",
    "        new_conflicts = [j for j in [idx for idx,i in enumerate(playfield) if ((i in x[idx]) or (i in x[check_i]))] if j!= check_i]\n",
    "        # add conflicts to broken set\n",
    "        for nc in new_conflicts:\n",
    "            y.broken_set.add(nc)\n",
    "        # update new item in field\n",
    "        print(check_i, \"changed\",playfield[check_i], \"to\", new_pos)\n",
    "        playfield[check_i] = new_pos\n",
    "print(playfield, breaker)\n"
   ]
  },
  {
   "cell_type": "code",
   "execution_count": 20,
   "metadata": {},
   "outputs": [],
   "source": [
    "def link_maker(playfield):\n",
    "    # playfield must be a numpy array, python list, or some other iterable of length 8.\n",
    "    # Each item of value j at index i represents a queen in column i at row j\n",
    "    # Columns are counted 0->8 left->right, and rows are counted 0->8 top->bottom\n",
    "    # Example input : [4, 0, 3, 5, 7, 1, 6, 2]\n",
    "    pr = lambda x: x if x > 0 else \"\"\n",
    "    lx = list(playfield)\n",
    "    liformula = np.zeros(8, dtype=\"object\")\n",
    "    for i in range(0,8):\n",
    "        idx = lx.index(i)\n",
    "        liformula[i] = f\"{pr(idx)}Q{pr(7-idx)}\"\n",
    "    return \"https://lichess.org/editor/\" + \"/\".join(list(liformula)) + \"_w_-_-_0_1?color=white\"\n"
   ]
  },
  {
   "cell_type": "code",
   "execution_count": 21,
   "metadata": {},
   "outputs": [
    {
     "data": {
      "text/plain": [
       "'https://lichess.org/editor/4Q3/Q7/5Q2/2Q5/6Q1/1Q6/3Q4/7Q_w_-_-_0_1?color=white'"
      ]
     },
     "execution_count": 21,
     "metadata": {},
     "output_type": "execute_result"
    }
   ],
   "source": [
    "link_maker(playfield)"
   ]
  },
  {
   "cell_type": "code",
   "execution_count": null,
   "metadata": {},
   "outputs": [],
   "source": []
  }
 ],
 "metadata": {
  "kernelspec": {
   "display_name": "mlenv",
   "language": "python",
   "name": "python3"
  },
  "language_info": {
   "codemirror_mode": {
    "name": "ipython",
    "version": 3
   },
   "file_extension": ".py",
   "mimetype": "text/x-python",
   "name": "python",
   "nbconvert_exporter": "python",
   "pygments_lexer": "ipython3",
   "version": "3.8.3"
  },
  "orig_nbformat": 4,
  "vscode": {
   "interpreter": {
    "hash": "61c55726856b8b1d3e81af8202333dd6f8bccdf3e0fb4dd88737923f55e83254"
   }
  }
 },
 "nbformat": 4,
 "nbformat_minor": 2
}
