{
 "cells": [
  {
   "attachments": {},
   "cell_type": "markdown",
   "metadata": {},
   "source": [
    "MIN CONFLICT HEURISTIC"
   ]
  },
  {
   "cell_type": "code",
   "execution_count": 11,
   "metadata": {},
   "outputs": [],
   "source": [
    "import numpy as np\n",
    "import copy\n",
    "from func import conflictcalculator\n",
    "from collections import Counter\n",
    "cc = conflictcalculator(8)"
   ]
  },
  {
   "cell_type": "code",
   "execution_count": 14,
   "metadata": {},
   "outputs": [],
   "source": [
    "def test(size):\n",
    "    full_set = {i for i in range(size)}\n",
    "    playfield = np.random.randint(0, size, size)\n",
    "    # playfield = [3, 3, 0, 3]\n",
    "    b_dict = {}\n",
    "    b_dict[size-1] = cc.r_calc(playfield[size-1],size-1,size)\n",
    "    b_r = {playfield[size-1]}\n",
    "    for i in range(size-2, -1, -1):\n",
    "        reject_set = copy.copy(b_r)\n",
    "        reject_list = list(reject_set)\n",
    "        admis_flag = True\n",
    "        for j in range(size-1, i, -1): #want to change this to choose a random \n",
    "            reject_list = reject_list + list(b_dict[j][i])\n",
    "            reject_set = reject_set.union(b_dict[j][i])\n",
    "            admis_flag = admis_flag and not (playfield[i] in reject_set)\n",
    "            # print(i,j, playfield[i], b_dict[j][i], b_r)\n",
    "        if not admis_flag:\n",
    "            good_vals = full_set.difference(reject_set)\n",
    "            if len(good_vals) > 0:\n",
    "                new_val = good_vals.pop()\n",
    "            else:\n",
    "                new_val = sorted((x:=Counter(reject_list)), key = lambda k: x[k])[0]\n",
    "            playfield[i] = new_val\n",
    "        # print(\"accepted\", i, playfield[i])\n",
    "        b_dict[i] = cc.r_calc(playfield[i], i, size)\n",
    "        b_r.add(playfield[i])\n",
    "    return playfield"
   ]
  },
  {
   "cell_type": "code",
   "execution_count": 26,
   "metadata": {},
   "outputs": [
    {
     "data": {
      "text/plain": [
       "[set(), {0}, {1, 3}, {2}]"
      ]
     },
     "execution_count": 26,
     "metadata": {},
     "output_type": "execute_result"
    }
   ],
   "source": [
    "# playfield = np.random.randint(0, size, size)\n",
    "size = 4\n",
    "cct = conflictcalculator(size)\n",
    "playfield = [0, 2, 3, 2]\n",
    "b_dict = {}\n",
    "check_i = size-1\n",
    "x = cct.r_calc(playfield[check_i],check_i,size)\n",
    "x"
   ]
  },
  {
   "cell_type": "code",
   "execution_count": 32,
   "metadata": {},
   "outputs": [
    {
     "name": "stdout",
     "output_type": "stream",
     "text": [
      "0 0 {2} set()\n",
      "True\n",
      "1 2 {2} {0}\n",
      "False\n",
      "2 3 {2} {1, 3}\n",
      "False\n"
     ]
    }
   ],
   "source": [
    "for cidx,ridx in enumerate(playfield):\n",
    "    if cidx != check_i:\n",
    "        # condition 1; same row\n",
    "        print(cidx, ridx, x[check_i],x[cidx])\n",
    "        print(not ((ridx in x[check_i]) or (ridx in x[cidx])))\n"
   ]
  },
  {
   "cell_type": "code",
   "execution_count": null,
   "metadata": {},
   "outputs": [],
   "source": []
  },
  {
   "cell_type": "code",
   "execution_count": null,
   "metadata": {},
   "outputs": [],
   "source": []
  },
  {
   "cell_type": "code",
   "execution_count": 13,
   "metadata": {},
   "outputs": [
    {
     "name": "stdout",
     "output_type": "stream",
     "text": [
      "Counter({0: 2, 2: 2, 3: 2, 6: 2, 4: 2, 1: 1, 7: 1, 5: 1})\n",
      "Counter({3: 3, 0: 2, 4: 2, 5: 1, 6: 1, 1: 1, 7: 1, 2: 1})\n",
      "Counter({3: 3, 1: 2, 2: 2, 5: 2, 0: 1, 6: 1, 4: 1, 7: 1})\n",
      "Counter({3: 3, 0: 2, 4: 2, 1: 1, 2: 1, 6: 1, 7: 1, 5: 1})\n",
      "Counter({4: 3, 2: 2, 3: 2, 6: 2, 7: 2, 0: 1, 1: 1, 5: 1})\n",
      "Counter({3: 2, 6: 2, 7: 2, 0: 1, 2: 1, 4: 1, 1: 1, 5: 1})\n",
      "Counter({3: 3, 0: 2, 4: 2, 2: 1, 5: 1, 6: 1, 7: 1, 1: 1})\n"
     ]
    },
    {
     "data": {
      "text/plain": [
       "('https://lichess.org/editor/6Q1/3Q4/1Q6/4Q3/7Q/Q7/2Q5/5Q2_w_-_-_0_1?color=white',\n",
       " array([5, 2, 6, 1, 3, 7, 0, 4]),\n",
       " 8)"
      ]
     },
     "execution_count": 13,
     "metadata": {},
     "output_type": "execute_result"
    }
   ],
   "source": [
    "size = 8\n",
    "counter = 0\n",
    "while True:\n",
    "    x = test(size)\n",
    "    counter += 1\n",
    "    if not x is None:\n",
    "        break\n",
    "pr = lambda x: x if x > 0 else \"\"\n",
    "lx = list(x)\n",
    "liformula = np.zeros(8, dtype=\"object\")\n",
    "for i in range(0,8):\n",
    "    idx = lx.index(i)\n",
    "    liformula[i] = f\"{pr(idx)}Q{pr(7-idx)}\"\n",
    "\"https://lichess.org/editor/\" + \"/\".join(list(liformula)) + \"_w_-_-_0_1?color=white\", x, counter\n"
   ]
  },
  {
   "cell_type": "code",
   "execution_count": null,
   "metadata": {},
   "outputs": [],
   "source": []
  }
 ],
 "metadata": {
  "kernelspec": {
   "display_name": "mlenv",
   "language": "python",
   "name": "python3"
  },
  "language_info": {
   "codemirror_mode": {
    "name": "ipython",
    "version": 3
   },
   "file_extension": ".py",
   "mimetype": "text/x-python",
   "name": "python",
   "nbconvert_exporter": "python",
   "pygments_lexer": "ipython3",
   "version": "3.8.3"
  },
  "orig_nbformat": 4,
  "vscode": {
   "interpreter": {
    "hash": "61c55726856b8b1d3e81af8202333dd6f8bccdf3e0fb4dd88737923f55e83254"
   }
  }
 },
 "nbformat": 4,
 "nbformat_minor": 2
}
