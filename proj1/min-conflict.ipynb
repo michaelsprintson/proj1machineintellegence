{
 "cells": [
  {
   "attachments": {},
   "cell_type": "markdown",
   "metadata": {},
   "source": [
    "MIN CONFLICT HEURISTIC"
   ]
  },
  {
   "cell_type": "code",
   "execution_count": 1,
   "metadata": {},
   "outputs": [],
   "source": [
    "import numpy as np\n",
    "import copy\n",
    "from func import conflictcalculator, yeilder, link_maker\n",
    "from collections import Counter\n"
   ]
  },
  {
   "cell_type": "code",
   "execution_count": 33,
   "metadata": {},
   "outputs": [
    {
     "name": "stdout",
     "output_type": "stream",
     "text": [
      "[4 7 5 0 3 2 6 1]\n",
      "[3 7 0 2 5 1 6 4] 21\n"
     ]
    }
   ],
   "source": [
    "size = 8\n",
    "cc = conflictcalculator(size)\n",
    "playfield = np.random.permutation(size)\n",
    "# playfield = [3,0,2,1]\n",
    "cct = conflictcalculator(size)\n",
    "b_dict = {}\n",
    "y = yeilder(size)\n",
    "# print((cct.generate_link(playfield)))\n",
    "print(playfield)\n",
    "breaker = 0\n",
    "for check_i in y.get_next_column():\n",
    "    breaker += 1\n",
    "    if breaker > 1000:\n",
    "        print(\"no solution found \")\n",
    "        break\n",
    "        \n",
    "    x = cct.r_calc(playfield[check_i],check_i,size) #calculate if its broken\n",
    "    broken_flag = False\n",
    "    for cidx,ridx in enumerate(playfield):\n",
    "        if cidx != check_i:\n",
    "            if((ridx in x[check_i]) or (ridx in x[cidx])):\n",
    "                broken_flag = True\n",
    "    # print(check_i,broken_flag)\n",
    "    if broken_flag: # if its broken, calculate which row it would have least conflicts in\n",
    "        conflicts = {}\n",
    "        for k in range(size):\n",
    "            x = cct.r_calc(k, check_i, size)\n",
    "            conflicts[k] = len([j for j in [idx for idx,i in enumerate(playfield) if ((i in x[idx]) or (i in x[check_i]))] if j!= check_i])\n",
    "        # print(conflicts)\n",
    "        # choose new pos with min conflict\n",
    "        new_min_c = conflicts[sorted(conflicts, key = lambda k: conflicts[k])[0]]\n",
    "        new_pos = np.random.choice([i for i,k in conflicts.items() if k == new_min_c])\n",
    "        # print(playfield[check_i], new_pos)\n",
    "\n",
    "        # calculate conflicts with new pos\n",
    "        x = cct.r_calc(new_pos, check_i,size)\n",
    "        new_conflicts = [j for j in [idx for idx,i in enumerate(playfield) if ((i in x[idx]) or (i in x[check_i]))] if j!= check_i]\n",
    "        # add conflicts to broken set\n",
    "        for nc in new_conflicts:\n",
    "            y.broken_set.add(nc)\n",
    "        # update new item in field\n",
    "        # print(check_i, \"changed\",playfield[check_i], \"to\", new_pos)\n",
    "        playfield[check_i] = new_pos\n",
    "print(playfield, breaker)"
   ]
  },
  {
   "cell_type": "code",
   "execution_count": null,
   "metadata": {},
   "outputs": [],
   "source": []
  },
  {
   "cell_type": "code",
   "execution_count": null,
   "metadata": {},
   "outputs": [],
   "source": []
  },
  {
   "cell_type": "code",
   "execution_count": null,
   "metadata": {},
   "outputs": [],
   "source": []
  },
  {
   "cell_type": "code",
   "execution_count": null,
   "metadata": {},
   "outputs": [],
   "source": []
  },
  {
   "cell_type": "code",
   "execution_count": 3,
   "metadata": {},
   "outputs": [
    {
     "data": {
      "text/plain": [
       "'https://lichess.org/editor/5Q2/1Q6/6Q1/Q7/3Q4/7Q/4Q3/2Q5_w_-_-_0_1?color=white'"
      ]
     },
     "execution_count": 3,
     "metadata": {},
     "output_type": "execute_result"
    }
   ],
   "source": [
    "link_maker(playfield)"
   ]
  },
  {
   "cell_type": "code",
   "execution_count": null,
   "metadata": {},
   "outputs": [],
   "source": []
  }
 ],
 "metadata": {
  "kernelspec": {
   "display_name": "mlenv",
   "language": "python",
   "name": "python3"
  },
  "language_info": {
   "codemirror_mode": {
    "name": "ipython",
    "version": 3
   },
   "file_extension": ".py",
   "mimetype": "text/x-python",
   "name": "python",
   "nbconvert_exporter": "python",
   "pygments_lexer": "ipython3",
   "version": "3.8.3"
  },
  "orig_nbformat": 4,
  "vscode": {
   "interpreter": {
    "hash": "61c55726856b8b1d3e81af8202333dd6f8bccdf3e0fb4dd88737923f55e83254"
   }
  }
 },
 "nbformat": 4,
 "nbformat_minor": 2
}
