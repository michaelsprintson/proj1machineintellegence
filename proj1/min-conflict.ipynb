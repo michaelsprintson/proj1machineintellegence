{
 "cells": [
  {
   "attachments": {},
   "cell_type": "markdown",
   "metadata": {},
   "source": [
    "MIN CONFLICT HEURISTIC"
   ]
  },
  {
   "cell_type": "code",
   "execution_count": 1,
   "metadata": {},
   "outputs": [],
   "source": [
    "import numpy as np\n",
    "import copy\n",
    "from func import conflictcalculator, yeilder, link_maker\n",
    "from alg import min_conflict"
   ]
  },
  {
   "cell_type": "code",
   "execution_count": 19,
   "metadata": {},
   "outputs": [
    {
     "name": "stdout",
     "output_type": "stream",
     "text": [
      "[1, 5, 3, 4, 6, 2, 7, 0]\n",
      "[5, 2, 0, 7, 3, 1, 6, 4] 34\n"
     ]
    }
   ],
   "source": [
    "size = 8\n",
    "comp_limit = 1000\n",
    "# playfield = np.random.permutation(size)\n",
    "playfield = [1, 5, 3, 4, 6, 2, 7, 0]\n",
    "print(playfield)\n",
    "\n",
    "playfield, breaker = min_conflict(playfield, size, comp_limit)\n",
    "print(playfield, breaker)"
   ]
  },
  {
   "cell_type": "code",
   "execution_count": null,
   "metadata": {},
   "outputs": [
    {
     "data": {
      "text/plain": [
       "'https://lichess.org/editor/6Q1/2Q5/7Q/1Q6/4Q3/Q7/5Q2/3Q4_w_-_-_0_1?color=white'"
      ]
     },
     "metadata": {},
     "output_type": "display_data"
    }
   ],
   "source": [
    "link_maker(playfield)"
   ]
  },
  {
   "attachments": {},
   "cell_type": "markdown",
   "metadata": {},
   "source": [
    "goal - calculate positions of queens at knight oppositions from each other"
   ]
  },
  {
   "cell_type": "code",
   "execution_count": 59,
   "metadata": {},
   "outputs": [
    {
     "name": "stdout",
     "output_type": "stream",
     "text": [
      "(1, 7) (2, 5) True\n",
      "(2, 5) (4, 6) True\n",
      "(3, 1) (5, 2) True\n",
      "(5, 2) (6, 4) True\n",
      "(5, 2) (7, 3) True\n"
     ]
    }
   ],
   "source": [
    "playfield = np.random.permutation(size)\n",
    "dist_check = lambda a,b : np.around(np.sqrt((a[0]-b[0])**2 + (a[1]-b[1])**2), decimals=2) == 2.24\n",
    "\n",
    "from itertools import product, combinations\n",
    "for i in list(combinations(range(8),2)):\n",
    "    a, b = (i[0],playfield[i[0]]),(i[1], playfield[i[1]])\n",
    "    if dist_check(a,b):\n",
    "        print(a,b,dist_check(a,b))"
   ]
  },
  {
   "cell_type": "code",
   "execution_count": 61,
   "metadata": {},
   "outputs": [],
   "source": [
    "p2, breaker = min_conflict(playfield, size, comp_limit)"
   ]
  },
  {
   "cell_type": "code",
   "execution_count": 60,
   "metadata": {},
   "outputs": [
    {
     "data": {
      "text/plain": [
       "'https://lichess.org/editor/Q7/3Q4/5Q2/7Q/6Q1/2Q5/4Q3/1Q6_w_-_-_0_1?color=white'"
      ]
     },
     "execution_count": 60,
     "metadata": {},
     "output_type": "execute_result"
    }
   ],
   "source": [
    "link_maker(playfield)"
   ]
  },
  {
   "cell_type": "code",
   "execution_count": 62,
   "metadata": {},
   "outputs": [
    {
     "data": {
      "text/plain": [
       "'https://lichess.org/editor/6Q1/1Q6/5Q2/2Q5/Q7/3Q4/7Q/4Q3_w_-_-_0_1?color=white'"
      ]
     },
     "execution_count": 62,
     "metadata": {},
     "output_type": "execute_result"
    }
   ],
   "source": [
    "link_maker(p2)"
   ]
  },
  {
   "cell_type": "code",
   "execution_count": null,
   "metadata": {},
   "outputs": [],
   "source": []
  }
 ],
 "metadata": {
  "kernelspec": {
   "display_name": "Python 3",
   "language": "python",
   "name": "python3"
  },
  "language_info": {
   "codemirror_mode": {
    "name": "ipython",
    "version": 3
   },
   "file_extension": ".py",
   "mimetype": "text/x-python",
   "name": "python",
   "nbconvert_exporter": "python",
   "pygments_lexer": "ipython3",
   "version": "3.11.2"
  },
  "orig_nbformat": 4,
  "vscode": {
   "interpreter": {
    "hash": "949777d72b0d2535278d3dc13498b2535136f6dfe0678499012e853ee9abcab1"
   }
  }
 },
 "nbformat": 4,
 "nbformat_minor": 2
}
