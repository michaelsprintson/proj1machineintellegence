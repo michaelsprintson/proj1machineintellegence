{
 "cells": [
  {
   "attachments": {},
   "cell_type": "markdown",
   "metadata": {},
   "source": [
    "MIN CONFLICT HEURISTIC"
   ]
  },
  {
   "cell_type": "code",
   "execution_count": 1,
   "metadata": {},
   "outputs": [],
   "source": [
    "import numpy as np\n",
    "import copy\n",
    "from func import conflictcalculator, yeilder, link_maker\n",
    "from alg import min_conflict"
   ]
  },
  {
   "cell_type": "code",
   "execution_count": 3,
   "metadata": {},
   "outputs": [
    {
     "name": "stdout",
     "output_type": "stream",
     "text": [
      "[4 7 6 0 5 2 1 3]\n",
      "[2 4 7 3 0 6 1 5] 45\n"
     ]
    }
   ],
   "source": [
    "size = 8\n",
    "comp_limit = 1000\n",
    "playfield = np.random.permutation(size)\n",
    "print(playfield)\n",
    "\n",
    "playfield, breaker = min_conflict(playfield, size, comp_limit)\n",
    "print(playfield, breaker)"
   ]
  },
  {
   "cell_type": "code",
   "execution_count": 6,
   "metadata": {},
   "outputs": [
    {
     "data": {
      "text/plain": [
       "'https://lichess.org/editor/4Q3/6Q1/Q7/3Q4/1Q6/7Q/5Q2/2Q5_w_-_-_0_1?color=white'"
      ]
     },
     "execution_count": 6,
     "metadata": {},
     "output_type": "execute_result"
    }
   ],
   "source": [
    "link_maker(playfield)"
   ]
  },
  {
   "cell_type": "code",
   "execution_count": null,
   "metadata": {},
   "outputs": [],
   "source": []
  }
 ],
 "metadata": {
  "kernelspec": {
   "display_name": "mlenv",
   "language": "python",
   "name": "python3"
  },
  "language_info": {
   "codemirror_mode": {
    "name": "ipython",
    "version": 3
   },
   "file_extension": ".py",
   "mimetype": "text/x-python",
   "name": "python",
   "nbconvert_exporter": "python",
   "pygments_lexer": "ipython3",
   "version": "3.8.3"
  },
  "orig_nbformat": 4,
  "vscode": {
   "interpreter": {
    "hash": "61c55726856b8b1d3e81af8202333dd6f8bccdf3e0fb4dd88737923f55e83254"
   }
  }
 },
 "nbformat": 4,
 "nbformat_minor": 2
}
