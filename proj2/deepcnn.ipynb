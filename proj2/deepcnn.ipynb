{
 "cells": [
  {
   "cell_type": "code",
   "execution_count": 1,
   "metadata": {},
   "outputs": [],
   "source": [
    "import torch\n",
    "import torchvision\n",
    "import torchvision.transforms as transforms\n",
    "import torch.nn as nn\n",
    "import numpy as np\n",
    "import torch.optim as optim\n",
    "from torch.utils.data import DataLoader, random_split\n",
    "from tqdm import tqdm\n",
    "\n",
    "import matplotlib.pyplot as plt"
   ]
  },
  {
   "cell_type": "code",
   "execution_count": 2,
   "metadata": {},
   "outputs": [
    {
     "name": "stdout",
     "output_type": "stream",
     "text": [
      "Files already downloaded and verified\n",
      "Files already downloaded and verified\n"
     ]
    }
   ],
   "source": [
    "transform = transforms.Compose(\n",
    "    [transforms.ToTensor(),\n",
    "     transforms.Normalize((0.5, 0.5, 0.5), (0.5, 0.5, 0.5))])\n",
    "\n",
    "batch_size = 128\n",
    "\n",
    "trainset_orig = torchvision.datasets.CIFAR10(root='./data', train=True, download=True, transform=transform)\n",
    "\n",
    "testset = torchvision.datasets.CIFAR10(root='./data', train=False, download=True, transform=transform)\n",
    "\n",
    "trainset, valset = random_split(trainset_orig, (0.8, 0.2))\n",
    "\n",
    "trainloader = torch.utils.data.DataLoader(trainset, batch_size=batch_size, shuffle=True, num_workers=2)\n",
    "valloader = torch.utils.data.DataLoader(valset, batch_size=batch_size, shuffle=True, num_workers=2)\n",
    "testloader = torch.utils.data.DataLoader(testset, batch_size=batch_size, shuffle=False, num_workers=2)\n",
    "\n",
    "classes = ('plane', 'car', 'bird', 'cat',\n",
    "           'deer', 'dog', 'frog', 'horse', 'ship', 'truck')"
   ]
  },
  {
   "cell_type": "code",
   "execution_count": 3,
   "metadata": {},
   "outputs": [],
   "source": [
    "conv_block_maker = lambda in_c, out_c, k_s, s, p: nn.Sequential(\n",
    "    nn.Conv2d(in_c, out_c, k_s, s, p),\n",
    "    nn.BatchNorm2d(out_c),\n",
    "    nn.ReLU(),\n",
    ")\n",
    "\n",
    "inception_block_maker = lambda in_c, filt_1, filt_3, filt_5, filt_3_r, filt_5_r, p: [\n",
    "    conv_block_maker(in_c, filt_1, 1, 1, 0), #block 1\n",
    "\n",
    "    nn.Sequential(conv_block_maker(in_c, filt_3_r, 1, 1, 0), #block 2\n",
    "    conv_block_maker(filt_3_r, filt_3, 3, 1, 1)), #block 2\n",
    "    \n",
    "    nn.Sequential(conv_block_maker(in_c, filt_5_r, 1, 1, 0), #block 3\n",
    "    conv_block_maker(filt_5_r, filt_5, 5, 1, 2)), #block 3\n",
    "\n",
    "    nn.Sequential(nn.MaxPool2d((3,3), (1,1), (1,1)),\n",
    "    conv_block_maker(in_c, p, 1, 1, 0)), #block 4\n",
    "]\n",
    "\n",
    "class inception_block(nn.Module):\n",
    "    def __init__(self, in_c, filt_1, filt_3, filt_5, filt_3_r, filt_5_r, p):\n",
    "        super(inception_block, self).__init__()\n",
    "        self.block_1 = conv_block_maker(in_c, filt_1, 1, 1, 0)\n",
    "        self.block_2 = nn.Sequential(conv_block_maker(in_c, filt_3_r, 1, 1, 0), #block 2\n",
    "    conv_block_maker(filt_3_r, filt_3, 3, 1, 1))\n",
    "        self.block_3 = nn.Sequential(conv_block_maker(in_c, filt_5_r, 1, 1, 0), #block 3\n",
    "    conv_block_maker(filt_5_r, filt_5, 5, 1, 2))\n",
    "        self.block_4 = nn.Sequential(nn.MaxPool2d((3,3), (1,1), (1,1)),\n",
    "    conv_block_maker(in_c, p, 1, 1, 0))\n",
    "    def forward(self, t):\n",
    "        First_Block_Out = self.block_1(t)\n",
    "        Second_Block_Out = self.block_2(t)\n",
    "        Third_Block_Out = self.block_3(t)\n",
    "        Fourth_Block_Out = self.block_4(t)\n",
    "        return torch.cat([First_Block_Out,Second_Block_Out, Third_Block_Out, Fourth_Block_Out], dim=1)\n",
    "\n",
    "aux_class = lambda in_c,num_c: nn.Sequential(\n",
    "    nn.AdaptiveAvgPool2d((4,4)),\n",
    "    nn.Conv2d(in_c, 128, 1, 1, 0),\n",
    "    nn.ReLU(),\n",
    "    nn.Flatten(start_dim=1),\n",
    "    nn.Linear(2048,1024),\n",
    "    nn.Dropout(0.7),\n",
    "    nn.Linear(1024, num_c),\n",
    ")\n",
    "\n",
    "class inception_model(nn.Module):\n",
    "    def __init__(self, out_c):\n",
    "        super(inception_model, self).__init__()\n",
    "        self.block_1 = nn.Sequential(\n",
    "            conv_block_maker(3,64,7,2,3),\n",
    "            nn.MaxPool2d((3,3),stride=2,padding=0,ceil_mode =True),\n",
    "            conv_block_maker(64,64,1,1,0),\n",
    "            conv_block_maker(64,192,3,1,1),\n",
    "            nn.MaxPool2d((3,3),stride=2,padding=0,ceil_mode =True),\n",
    "            inception_block(192,64,128,32,96,16,32),\n",
    "            inception_block(256,128,192,96,128,32,64),\n",
    "            nn.MaxPool2d((3,3),stride=2,padding=0,ceil_mode =True),\n",
    "            inception_block(480,192,208,48,96,16,64),)\n",
    "        self.block_2 = nn.Sequential(\n",
    "            inception_block(512,160,224,64,112,24,64),\n",
    "            inception_block(512,128,256,64,128,24,64),\n",
    "            inception_block(512,112,288,64,144,32,64),)\n",
    "        self.block_3 = nn.Sequential(\n",
    "            inception_block(528,256,320,128,160,32,128),\n",
    "            nn.MaxPool2d((3,3),stride=2,padding=0,ceil_mode =True),\n",
    "            inception_block(832,256,320,128,160,32,128),\n",
    "            inception_block(832,384,384,128,192,48,128),\n",
    "            nn.AdaptiveAvgPool2d(output_size=(1,1)),\n",
    "            nn.Flatten(1),\n",
    "            nn.Dropout(p=0.4),\n",
    "            nn.Linear(in_features =1024,out_features = out_c))\n",
    "        self.aux_1 = aux_class(512,out_c)\n",
    "        self.aux_2 = aux_class(528,out_c)\n",
    "    def forward(self, t):\n",
    "        t = self.block_1(t)\n",
    "        aux_1_out = self.aux_1(t)\n",
    "        t = self.block_2(t)\n",
    "        aux_2_out = self.aux_2(t)\n",
    "        t = self.block_3(t)\n",
    "        return t, aux_1_out, aux_2_out"
   ]
  },
  {
   "cell_type": "code",
   "execution_count": 4,
   "metadata": {},
   "outputs": [],
   "source": [
    "Device = torch.device(\"cuda\") if torch.cuda.is_available() else torch.device(\"cpu\")"
   ]
  },
  {
   "cell_type": "code",
   "execution_count": 5,
   "metadata": {},
   "outputs": [],
   "source": [
    "def Train_Validate_Model(Model, Train_Loader, Val_Loader, Num_Of_Train_Samples, Num_Of_Val_Samples, Criterion,Optimizer, Num_Epochs):\n",
    "    # ==========================Training Part ================================#\n",
    "    Train_Loss_History, Train_Accuracy_History, Val_Loss_History, Val_Accuracy_History = []\n",
    "    for epoch in (pbar:=tqdm(range(Num_Epochs))):\n",
    "        Num_Of_Predicted_Correctly, Train_Cummulative_Loss = 0\n",
    "        for batch_samples,targets in Train_Loader:\n",
    "            batch_samples = batch_samples.to(device=Device)\n",
    "            targets = targets.to(device=Device)\n",
    "\n",
    "            Network_Predictions, Aux_1_Predictions, Aux_2_Predictions = Model(batch_samples)\n",
    "            Main_Loss =  Criterion(Network_Predictions, targets) + (0.3 * Criterion(Aux_1_Predictions, targets)) + (0.3 * Criterion(Aux_2_Predictions, targets))\n",
    "\n",
    "            Optimizer.zero_grad() \n",
    "            Main_Loss.backward() \n",
    "            Optimizer.step()\n",
    "            \n",
    "            _, Train_Samples_Predictions = Network_Predictions.max(1)\n",
    "            Train_Samples_Predictions = Train_Samples_Predictions.to(device=Device)\n",
    "            Num_Of_Predicted_Correctly += (Train_Samples_Predictions == targets).float().sum().item()\n",
    "            Train_Cummulative_Loss += Main_Loss.data.item() * batch_samples.shape[0]\n",
    "            \n",
    "        Train_Cummulative_Loss /= Num_Of_Train_Samples\n",
    "        Train_Loss_History.append(Train_Cummulative_Loss)\n",
    "        Train_Accuracy = Num_Of_Predicted_Correctly / Num_Of_Train_Samples\n",
    "        Train_Accuracy_History.append(Train_Accuracy)\n",
    "    # =============================== End of Training Part ========================#\n",
    "    \n",
    "    #============================ Validation Part ===================================#\n",
    "    \n",
    "        Num_Of_Predicted_Correctly = 0\n",
    "        with torch.no_grad(): # we're in test mode so we don't need to calc the gradients\n",
    "            Val_Cummulative_Loss = 0\n",
    "            for batch_samples,targets in Val_Loader:\n",
    "                batch_samples = batch_samples.to(device=Device)\n",
    "                targets = targets.to(device=Device)\n",
    "\n",
    "                Network_Predictions, Aux_1_Predictions, Aux_2_Predictions = Model(batch_samples)\n",
    "\n",
    "                Main_Loss = Criterion(Network_Predictions, targets) + (0.3 *  Criterion(Aux_1_Predictions, targets)) + (0.3 * Criterion(Aux_2_Predictions, targets))\n",
    "\n",
    "                _, Val_Samples_Predictions = Network_Predictions.max(1)\n",
    "                Val_Samples_Predictions = Val_Samples_Predictions.to(device=Device)\n",
    "                Num_Of_Predicted_Correctly += (Val_Samples_Predictions == targets).float().sum().item()\n",
    "                Val_Cummulative_Loss += Main_Loss.data.item() * batch_samples.shape[0]\n",
    "            \n",
    "            Val_Cummulative_Loss /= Num_Of_Val_Samples\n",
    "            Val_Loss_History.append(Val_Cummulative_Loss)\n",
    "            Val_Accuracy = Num_Of_Predicted_Correctly / Num_Of_Val_Samples\n",
    "            Val_Accuracy_History.append(Val_Accuracy)\n",
    "            # =============================== End of Validation Part ========================#\n",
    "\n",
    "            pbar.set_description(f\"train-loss:{Train_Cummulative_Loss},train=acc:{Train_Accuracy},val-loss:{Val_Cummulative_Loss},val-loss:{Val_Accuracy}\")\n",
    "            if epoch % 10 == 0:\n",
    "                print()\n",
    "    torch.save(Model.state_dict(), \"InceptionNet_Model\")\n",
    "    return Train_Accuracy_History, Val_Accuracy_History, Train_Loss_History, Val_Loss_History"
   ]
  },
  {
   "cell_type": "code",
   "execution_count": 6,
   "metadata": {},
   "outputs": [],
   "source": [
    "def Plot_Model_History(Train_Accuracy_History , Val_Accuracy_History, Train_Loss_History, Val_Loss_History):\n",
    "    # plot Accuracy\n",
    "    plt.plot(Train_Accuracy_History, marker='o')\n",
    "    plt.plot(Val_Accuracy_History, marker='o')\n",
    "    plt.title('model accuracy')\n",
    "    plt.ylabel('accuracy')\n",
    "    plt.xlabel('epoch')\n",
    "    plt.legend(['train', 'validation'], loc='upper left')\n",
    "    plt.show()\n",
    "    \n",
    "    # plot Loss\n",
    "    plt.plot(Train_Loss_History, marker='8')\n",
    "    plt.plot(Val_Loss_History, marker='8')\n",
    "    plt.title('model loss')\n",
    "    plt.ylabel('loss')\n",
    "    plt.xlabel('epoch')\n",
    "    plt.legend(['train', 'validation'], loc='upper left')\n",
    "    plt.show()"
   ]
  },
  {
   "cell_type": "code",
   "execution_count": 7,
   "metadata": {},
   "outputs": [
    {
     "name": "stderr",
     "output_type": "stream",
     "text": [
      "train-loss:2.454709456062317,train=acc:0.4383,val-loss:1.9743970821380614,val-loss:0.5578:   1%|          | 1/100 [00:14<23:24, 14.19s/it]"
     ]
    },
    {
     "name": "stdout",
     "output_type": "stream",
     "text": [
      "\n"
     ]
    },
    {
     "name": "stderr",
     "output_type": "stream",
     "text": [
      "train-loss:0.4297590564250946,train=acc:0.91115,val-loss:1.4638091262817383,val-loss:0.755:  11%|█         | 11/100 [02:24<19:21, 13.05s/it] "
     ]
    },
    {
     "name": "stdout",
     "output_type": "stream",
     "text": [
      "\n"
     ]
    },
    {
     "name": "stderr",
     "output_type": "stream",
     "text": [
      "train-loss:0.14953833563923835,train=acc:0.9695,val-loss:1.8886448585510254,val-loss:0.7594:  21%|██        | 21/100 [04:34<17:04, 12.97s/it]  "
     ]
    },
    {
     "name": "stdout",
     "output_type": "stream",
     "text": [
      "\n"
     ]
    },
    {
     "name": "stderr",
     "output_type": "stream",
     "text": [
      "train-loss:0.10786335176378488,train=acc:0.978325,val-loss:1.9601278884887696,val-loss:0.7743:  31%|███       | 31/100 [06:44<15:02, 13.08s/it]"
     ]
    },
    {
     "name": "stdout",
     "output_type": "stream",
     "text": [
      "\n"
     ]
    },
    {
     "name": "stderr",
     "output_type": "stream",
     "text": [
      "train-loss:0.08985759142786265,train=acc:0.9823,val-loss:2.014686489868164,val-loss:0.776:  41%|████      | 41/100 [08:56<13:01, 13.25s/it]    "
     ]
    },
    {
     "name": "stdout",
     "output_type": "stream",
     "text": [
      "\n"
     ]
    },
    {
     "name": "stderr",
     "output_type": "stream",
     "text": [
      "train-loss:0.0645330767042935,train=acc:0.9877,val-loss:2.2296210757255555,val-loss:0.7701:  51%|█████     | 51/100 [11:08<10:41, 13.09s/it]  "
     ]
    },
    {
     "name": "stdout",
     "output_type": "stream",
     "text": [
      "\n"
     ]
    },
    {
     "name": "stderr",
     "output_type": "stream",
     "text": [
      "train-loss:0.05555147557035089,train=acc:0.988675,val-loss:2.228994188308716,val-loss:0.7742:  61%|██████    | 61/100 [13:19<08:31, 13.10s/it]  "
     ]
    },
    {
     "name": "stdout",
     "output_type": "stream",
     "text": [
      "\n"
     ]
    },
    {
     "name": "stderr",
     "output_type": "stream",
     "text": [
      "train-loss:0.04460245286151767,train=acc:0.9919,val-loss:2.4134059242248536,val-loss:0.7774:  71%|███████   | 71/100 [15:30<06:15, 12.96s/it]  "
     ]
    },
    {
     "name": "stdout",
     "output_type": "stream",
     "text": [
      "\n"
     ]
    },
    {
     "name": "stderr",
     "output_type": "stream",
     "text": [
      "train-loss:0.0425790480485186,train=acc:0.99245,val-loss:2.330969125366211,val-loss:0.7722:  81%|████████  | 81/100 [17:39<04:03, 12.79s/it]    "
     ]
    },
    {
     "name": "stdout",
     "output_type": "stream",
     "text": [
      "\n"
     ]
    },
    {
     "name": "stderr",
     "output_type": "stream",
     "text": [
      "train-loss:0.03530110296625644,train=acc:0.993375,val-loss:2.389294002532959,val-loss:0.7742:  91%|█████████ | 91/100 [19:50<01:57, 13.07s/it] "
     ]
    },
    {
     "name": "stdout",
     "output_type": "stream",
     "text": [
      "\n"
     ]
    },
    {
     "name": "stderr",
     "output_type": "stream",
     "text": [
      "train-loss:0.032098029458522796,train=acc:0.9945,val-loss:2.4975517730712893,val-loss:0.7776: 100%|██████████| 100/100 [21:48<00:00, 13.08s/it] \n"
     ]
    },
    {
     "data": {
      "image/png": "[encoded data removed]",
      "text/plain": [
       "<Figure size 640x480 with 1 Axes>"
      ]
     },
     "metadata": {},
     "output_type": "display_data"
    },
    {
     "data": {
      "image/png": "[encoded data removed]",
      "text/plain": [
       "<Figure size 640x480 with 1 Axes>"
      ]
     },
     "metadata": {},
     "output_type": "display_data"
    }
   ],
   "source": [
    "def Propagate_Network():\n",
    "    Inception_Model = inception_model(out_c=10).to(device=Device)\n",
    "    Cross_Entropy_Criterion = nn.CrossEntropyLoss()\n",
    "    Adam_Optimizer = optim.Adam(Inception_Model.parameters(), lr=0.001)\n",
    "    Train_Accuracy_History, Val_Accuracy_History, Train_Loss_History, Val_Loss_History = Train_Validate_Model(Model = Inception_Model, Train_Loader = trainloader,Val_Loader = valloader,Num_Of_Train_Samples = len(trainset),\n",
    "                         Num_Of_Val_Samples = len(valset),Criterion = Cross_Entropy_Criterion,Optimizer = Adam_Optimizer,Num_Epochs = 100)\n",
    "    Plot_Model_History( Train_Accuracy_History, Val_Accuracy_History, Train_Loss_History, Val_Loss_History)\n",
    "Propagate_Network()"
   ]
  },
  {
   "cell_type": "code",
   "execution_count": 11,
   "metadata": {},
   "outputs": [
    {
     "name": "stderr",
     "output_type": "stream",
     "text": [
      "100%|██████████| 79/79 [00:01<00:00, 72.02it/s]"
     ]
    },
    {
     "name": "stdout",
     "output_type": "stream",
     "text": [
      "Test Accuracy =  77.72 %\n"
     ]
    },
    {
     "name": "stderr",
     "output_type": "stream",
     "text": [
      "\n"
     ]
    }
   ],
   "source": [
    "def Model_Test(Test_Loader, Num_Of_Test_Samples):\n",
    "    Test_CIFAR = inception_model(out_c=10).to(device=Device)\n",
    "    Test_CIFAR.load_state_dict(torch.load('./InceptionNet_Model'))\n",
    "    Test_CIFAR.eval().cuda()\n",
    "    Num_Of_Correct_Predicted = 0\n",
    "    with torch.no_grad():\n",
    "        for batch_samples,targets in tqdm(Test_Loader):\n",
    "            batch_samples, targets = batch_samples.to(Device), targets.to(Device)\n",
    "            \n",
    "            # Model Predictions\n",
    "            Predictions, _, _ = Test_CIFAR(batch_samples)\n",
    "            \n",
    "            _, Predicted_Class = Predictions.max(1)\n",
    "            \n",
    "            # Calc number of samples that predicted correctly\n",
    "            Num_Of_Correct_Predicted += (Predicted_Class == targets).float().sum().item()\n",
    "    Test_Accuracy = Num_Of_Correct_Predicted / Num_Of_Test_Samples\n",
    "    print(\"Test Accuracy = \", Test_Accuracy*100 , \"%\")\n",
    "Model_Test(Test_Loader= testloader, Num_Of_Test_Samples=10000)"
   ]
  },
  {
   "cell_type": "code",
   "execution_count": null,
   "metadata": {},
   "outputs": [],
   "source": []
  }
 ],
 "metadata": {
  "kernelspec": {
   "display_name": "Python 3",
   "language": "python",
   "name": "python3"
  },
  "language_info": {
   "codemirror_mode": {
    "name": "ipython",
    "version": 3
   },
   "file_extension": ".py",
   "mimetype": "text/x-python",
   "name": "python",
   "nbconvert_exporter": "python",
   "pygments_lexer": "ipython3",
   "version": "3.11.2"
  },
  "orig_nbformat": 4,
  "vscode": {
   "interpreter": {
    "hash": "949777d72b0d2535278d3dc13498b2535136f6dfe0678499012e853ee9abcab1"
   }
  }
 },
 "nbformat": 4,
 "nbformat_minor": 2
}
